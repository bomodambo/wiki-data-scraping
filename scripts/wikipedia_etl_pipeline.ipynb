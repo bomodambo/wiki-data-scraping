{
 "cells": [
  {
   "cell_type": "code",
   "execution_count": 1,
   "metadata": {},
   "outputs": [
    {
     "name": "stdout",
     "output_type": "stream",
     "text": [
      "Requirement already satisfied: pandas in c:\\users\\bomodambo\\documents\\10alytics\\_portfolio projects\\wikipedia data scraping\\venv\\lib\\site-packages (2.2.2)Note: you may need to restart the kernel to use updated packages.\n",
      "\n",
      "Requirement already satisfied: numpy>=1.23.2 in c:\\users\\bomodambo\\documents\\10alytics\\_portfolio projects\\wikipedia data scraping\\venv\\lib\\site-packages (from pandas) (2.1.0)\n",
      "Requirement already satisfied: python-dateutil>=2.8.2 in c:\\users\\bomodambo\\documents\\10alytics\\_portfolio projects\\wikipedia data scraping\\venv\\lib\\site-packages (from pandas) (2.9.0.post0)\n",
      "Requirement already satisfied: pytz>=2020.1 in c:\\users\\bomodambo\\documents\\10alytics\\_portfolio projects\\wikipedia data scraping\\venv\\lib\\site-packages (from pandas) (2024.1)\n",
      "Requirement already satisfied: tzdata>=2022.7 in c:\\users\\bomodambo\\documents\\10alytics\\_portfolio projects\\wikipedia data scraping\\venv\\lib\\site-packages (from pandas) (2024.1)\n",
      "Requirement already satisfied: six>=1.5 in c:\\users\\bomodambo\\documents\\10alytics\\_portfolio projects\\wikipedia data scraping\\venv\\lib\\site-packages (from python-dateutil>=2.8.2->pandas) (1.16.0)\n"
     ]
    }
   ],
   "source": [
    "pip install pandas"
   ]
  },
  {
   "cell_type": "code",
   "execution_count": 2,
   "metadata": {},
   "outputs": [
    {
     "name": "stdout",
     "output_type": "stream",
     "text": [
      "Requirement already satisfied: sqlalchemy in c:\\users\\bomodambo\\documents\\10alytics\\_portfolio projects\\wikipedia data scraping\\venv\\lib\\site-packages (2.0.32)\n",
      "Requirement already satisfied: pymysql in c:\\users\\bomodambo\\documents\\10alytics\\_portfolio projects\\wikipedia data scraping\\venv\\lib\\site-packages (1.1.1)\n",
      "Requirement already satisfied: typing-extensions>=4.6.0 in c:\\users\\bomodambo\\documents\\10alytics\\_portfolio projects\\wikipedia data scraping\\venv\\lib\\site-packages (from sqlalchemy) (4.12.2)\n",
      "Requirement already satisfied: greenlet!=0.4.17 in c:\\users\\bomodambo\\documents\\10alytics\\_portfolio projects\\wikipedia data scraping\\venv\\lib\\site-packages (from sqlalchemy) (3.0.3)\n",
      "Note: you may need to restart the kernel to use updated packages.\n"
     ]
    }
   ],
   "source": [
    "pip install sqlalchemy pymysql"
   ]
  },
  {
   "cell_type": "code",
   "execution_count": 3,
   "metadata": {},
   "outputs": [
    {
     "name": "stdout",
     "output_type": "stream",
     "text": [
      "Requirement already satisfied: psycopg2 in c:\\users\\bomodambo\\documents\\10alytics\\_portfolio projects\\wikipedia data scraping\\venv\\lib\\site-packages (2.9.9)\n",
      "Note: you may need to restart the kernel to use updated packages.\n"
     ]
    }
   ],
   "source": [
    "pip install psycopg2"
   ]
  },
  {
   "cell_type": "code",
   "execution_count": 4,
   "metadata": {},
   "outputs": [
    {
     "name": "stdout",
     "output_type": "stream",
     "text": [
      "Requirement already satisfied: pyodbc in c:\\users\\bomodambo\\documents\\10alytics\\_portfolio projects\\wikipedia data scraping\\venv\\lib\\site-packages (5.1.0)\n",
      "Note: you may need to restart the kernel to use updated packages.\n"
     ]
    }
   ],
   "source": [
    "pip install pyodbc"
   ]
  },
  {
   "cell_type": "code",
   "execution_count": 5,
   "metadata": {},
   "outputs": [],
   "source": [
    "#Import necessary libraries\n",
    "import requests\n",
    "from bs4 import BeautifulSoup\n",
    "import csv\n",
    "import json\n",
    "import pandas as pd\n",
    "from sqlalchemy import create_engine\n",
    "import pymysql\n",
    "import psycopg2\n",
    "import pyodbc"
   ]
  },
  {
   "cell_type": "markdown",
   "metadata": {},
   "source": [
    "# Extraction Layer"
   ]
  },
  {
   "cell_type": "code",
   "execution_count": 6,
   "metadata": {},
   "outputs": [],
   "source": [
    "#Extract data from URL\n",
    "response = requests.get('https://en.wikipedia.org/wiki/List_of_largest_universities')"
   ]
  },
  {
   "cell_type": "code",
   "execution_count": 7,
   "metadata": {},
   "outputs": [],
   "source": [
    "soup = BeautifulSoup(response.content)"
   ]
  },
  {
   "cell_type": "code",
   "execution_count": 8,
   "metadata": {},
   "outputs": [],
   "source": [
    "table = soup.find('table', attrs={'class': 'sortable'}) #will give the first element that matches the criteria that you specify"
   ]
  },
  {
   "cell_type": "code",
   "execution_count": 9,
   "metadata": {},
   "outputs": [],
   "source": [
    "trs = table.findAll('tr')"
   ]
  },
  {
   "cell_type": "code",
   "execution_count": 10,
   "metadata": {},
   "outputs": [
    {
     "name": "stdout",
     "output_type": "stream",
     "text": [
      "Country\n",
      "University\n",
      "Founded\n",
      "Type\n",
      "Enrollment\n",
      "Ref\n"
     ]
    }
   ],
   "source": [
    "#To print the text of html items\n",
    "for item in trs[0].findAll('th'):\n",
    "    print(item.text.strip()) #strip() to remove extra spaces"
   ]
  },
  {
   "cell_type": "code",
   "execution_count": 11,
   "metadata": {},
   "outputs": [
    {
     "name": "stdout",
     "output_type": "stream",
     "text": [
      "Country\n",
      "University\n",
      "Founded\n",
      "Type\n",
      "Enrollment\n",
      "Ref\n"
     ]
    }
   ],
   "source": [
    "columns = []\n",
    "for item in trs[0].findAll('th'):\n",
    "    print(item.text.strip())\n",
    "    columns.append(item.text.strip())"
   ]
  },
  {
   "cell_type": "code",
   "execution_count": 12,
   "metadata": {},
   "outputs": [
    {
     "data": {
      "text/plain": [
       "['Country', 'University', 'Founded', 'Type', 'Enrollment', 'Ref']"
      ]
     },
     "execution_count": 12,
     "metadata": {},
     "output_type": "execute_result"
    }
   ],
   "source": [
    "columns"
   ]
  },
  {
   "cell_type": "code",
   "execution_count": 13,
   "metadata": {},
   "outputs": [],
   "source": [
    "columns = list(map(lambda x: x.text.strip(), trs[0].findAll('th')))\n",
    "columns[-1] = \"Link\""
   ]
  },
  {
   "cell_type": "code",
   "execution_count": 14,
   "metadata": {},
   "outputs": [
    {
     "data": {
      "text/plain": [
       "['Country', 'University', 'Founded', 'Type', 'Enrollment', 'Link']"
      ]
     },
     "execution_count": 14,
     "metadata": {},
     "output_type": "execute_result"
    }
   ],
   "source": [
    "columns"
   ]
  },
  {
   "cell_type": "code",
   "execution_count": 15,
   "metadata": {},
   "outputs": [],
   "source": [
    "rows = trs[1:]"
   ]
  },
  {
   "cell_type": "code",
   "execution_count": 16,
   "metadata": {},
   "outputs": [
    {
     "data": {
      "text/plain": [
       "<tr>\n",
       "<td><span class=\"flagicon\"><span class=\"mw-image-border\" typeof=\"mw:File\"><span><img alt=\"\" class=\"mw-file-element\" data-file-height=\"500\" data-file-width=\"700\" decoding=\"async\" height=\"15\" src=\"//upload.wikimedia.org/wikipedia/commons/thumb/3/36/Flag_of_Albania.svg/21px-Flag_of_Albania.svg.png\" srcset=\"//upload.wikimedia.org/wikipedia/commons/thumb/3/36/Flag_of_Albania.svg/32px-Flag_of_Albania.svg.png 1.5x, //upload.wikimedia.org/wikipedia/commons/thumb/3/36/Flag_of_Albania.svg/42px-Flag_of_Albania.svg.png 2x\" width=\"21\"/></span></span> </span><a href=\"/wiki/Albania\" title=\"Albania\">Albania</a>\n",
       "</td>\n",
       "<td><a href=\"/wiki/University_of_Tirana\" title=\"University of Tirana\">University of Tirana</a>\n",
       "</td>\n",
       "<td style=\"text-align: right;\">1957\n",
       "</td>\n",
       "<td>Public\n",
       "</td>\n",
       "<td style=\"text-align: right;\">35,000\n",
       "</td>\n",
       "<td>\n",
       "</td></tr>"
      ]
     },
     "execution_count": 16,
     "metadata": {},
     "output_type": "execute_result"
    }
   ],
   "source": [
    "rows[0]"
   ]
  },
  {
   "cell_type": "code",
   "execution_count": 17,
   "metadata": {},
   "outputs": [
    {
     "data": {
      "text/plain": [
       "[<td><span class=\"flagicon\"><span class=\"mw-image-border\" typeof=\"mw:File\"><span><img alt=\"\" class=\"mw-file-element\" data-file-height=\"500\" data-file-width=\"700\" decoding=\"async\" height=\"15\" src=\"//upload.wikimedia.org/wikipedia/commons/thumb/3/36/Flag_of_Albania.svg/21px-Flag_of_Albania.svg.png\" srcset=\"//upload.wikimedia.org/wikipedia/commons/thumb/3/36/Flag_of_Albania.svg/32px-Flag_of_Albania.svg.png 1.5x, //upload.wikimedia.org/wikipedia/commons/thumb/3/36/Flag_of_Albania.svg/42px-Flag_of_Albania.svg.png 2x\" width=\"21\"/></span></span> </span><a href=\"/wiki/Albania\" title=\"Albania\">Albania</a>\n",
       " </td>,\n",
       " <td><a href=\"/wiki/University_of_Tirana\" title=\"University of Tirana\">University of Tirana</a>\n",
       " </td>,\n",
       " <td style=\"text-align: right;\">1957\n",
       " </td>,\n",
       " <td>Public\n",
       " </td>,\n",
       " <td style=\"text-align: right;\">35,000\n",
       " </td>,\n",
       " <td>\n",
       " </td>]"
      ]
     },
     "execution_count": 17,
     "metadata": {},
     "output_type": "execute_result"
    }
   ],
   "source": [
    "rows[0].findAll('td')"
   ]
  },
  {
   "cell_type": "code",
   "execution_count": 18,
   "metadata": {},
   "outputs": [
    {
     "data": {
      "text/plain": [
       "['Albania', 'University of Tirana', '1957', 'Public', '35,000', '']"
      ]
     },
     "execution_count": 18,
     "metadata": {},
     "output_type": "execute_result"
    }
   ],
   "source": [
    "list(map(lambda x: x.text.strip(), rows[0].findAll('td')))"
   ]
  },
  {
   "cell_type": "code",
   "execution_count": 19,
   "metadata": {},
   "outputs": [
    {
     "data": {
      "text/plain": [
       "'wiki/University_of_Tirana'"
      ]
     },
     "execution_count": 19,
     "metadata": {},
     "output_type": "execute_result"
    }
   ],
   "source": [
    "rows[0].findAll('td')[1].a.attrs['href'].lstrip('/')"
   ]
  },
  {
   "cell_type": "code",
   "execution_count": 20,
   "metadata": {},
   "outputs": [],
   "source": [
    "def extract_row(tr):\n",
    "    row_soup_list = tr.findAll('td')\n",
    "    row = list(map(lambda x: x.text.strip(),row_soup_list))\n",
    "    if len(row)<6:\n",
    "        row.append('')\n",
    "    link = row_soup_list[1].a.attrs['href'].lstrip('/')\n",
    "    row[-1] = f'https://en.wikipedia.org/{link}' if link else ''\n",
    "    return row"
   ]
  },
  {
   "cell_type": "code",
   "execution_count": 21,
   "metadata": {},
   "outputs": [
    {
     "data": {
      "text/plain": [
       "['Japan',\n",
       " 'Nihon University',\n",
       " '1889',\n",
       " 'Private',\n",
       " '70,667',\n",
       " 'https://en.wikipedia.org/wiki/Nihon_University']"
      ]
     },
     "execution_count": 21,
     "metadata": {},
     "output_type": "execute_result"
    }
   ],
   "source": [
    "extract_row(rows[35])"
   ]
  },
  {
   "cell_type": "code",
   "execution_count": 22,
   "metadata": {},
   "outputs": [],
   "source": [
    "data = list(map(extract_row, rows))"
   ]
  },
  {
   "cell_type": "code",
   "execution_count": 23,
   "metadata": {},
   "outputs": [],
   "source": [
    "with open ('universities.csv', 'w', newline='') as file:\n",
    "    csvwriter = csv.writer(file)\n",
    "    csvwriter.writerow(columns)\n",
    "    csvwriter.writerows(data)"
   ]
  },
  {
   "cell_type": "code",
   "execution_count": 24,
   "metadata": {},
   "outputs": [],
   "source": [
    "with open ('universities.json', 'w') as file:\n",
    "    json.dump(data, file, indent=4)"
   ]
  },
  {
   "cell_type": "markdown",
   "metadata": {},
   "source": [
    "# Transformation Layer"
   ]
  },
  {
   "cell_type": "code",
   "execution_count": 25,
   "metadata": {},
   "outputs": [],
   "source": [
    "df = pd.DataFrame(data=data, columns=columns)"
   ]
  },
  {
   "cell_type": "code",
   "execution_count": 26,
   "metadata": {},
   "outputs": [
    {
     "data": {
      "text/html": [
       "<div>\n",
       "<style scoped>\n",
       "    .dataframe tbody tr th:only-of-type {\n",
       "        vertical-align: middle;\n",
       "    }\n",
       "\n",
       "    .dataframe tbody tr th {\n",
       "        vertical-align: top;\n",
       "    }\n",
       "\n",
       "    .dataframe thead th {\n",
       "        text-align: right;\n",
       "    }\n",
       "</style>\n",
       "<table border=\"1\" class=\"dataframe\">\n",
       "  <thead>\n",
       "    <tr style=\"text-align: right;\">\n",
       "      <th></th>\n",
       "      <th>Country</th>\n",
       "      <th>University</th>\n",
       "      <th>Founded</th>\n",
       "      <th>Type</th>\n",
       "      <th>Enrollment</th>\n",
       "      <th>Link</th>\n",
       "    </tr>\n",
       "  </thead>\n",
       "  <tbody>\n",
       "    <tr>\n",
       "      <th>0</th>\n",
       "      <td>Albania</td>\n",
       "      <td>University of Tirana</td>\n",
       "      <td>1957</td>\n",
       "      <td>Public</td>\n",
       "      <td>35,000</td>\n",
       "      <td>https://en.wikipedia.org/wiki/University_of_Ti...</td>\n",
       "    </tr>\n",
       "    <tr>\n",
       "      <th>1</th>\n",
       "      <td>Algeria</td>\n",
       "      <td>Constantine University</td>\n",
       "      <td>1978</td>\n",
       "      <td>Public</td>\n",
       "      <td>85,000</td>\n",
       "      <td>https://en.wikipedia.org/wiki/List_of_universi...</td>\n",
       "    </tr>\n",
       "    <tr>\n",
       "      <th>2</th>\n",
       "      <td>Angola</td>\n",
       "      <td>Agostinho Neto University</td>\n",
       "      <td>1962</td>\n",
       "      <td>Public</td>\n",
       "      <td>29,827</td>\n",
       "      <td>https://en.wikipedia.org/wiki/Agostinho_Neto_U...</td>\n",
       "    </tr>\n",
       "    <tr>\n",
       "      <th>3</th>\n",
       "      <td>Argentina</td>\n",
       "      <td>University of Buenos Aires</td>\n",
       "      <td>1821</td>\n",
       "      <td>Public</td>\n",
       "      <td>311,175</td>\n",
       "      <td>https://en.wikipedia.org/wiki/University_of_Bu...</td>\n",
       "    </tr>\n",
       "    <tr>\n",
       "      <th>4</th>\n",
       "      <td>Australia</td>\n",
       "      <td>Monash University</td>\n",
       "      <td>1958</td>\n",
       "      <td>Public</td>\n",
       "      <td>73,807</td>\n",
       "      <td>https://en.wikipedia.org/wiki/Monash_University</td>\n",
       "    </tr>\n",
       "    <tr>\n",
       "      <th>...</th>\n",
       "      <td>...</td>\n",
       "      <td>...</td>\n",
       "      <td>...</td>\n",
       "      <td>...</td>\n",
       "      <td>...</td>\n",
       "      <td>...</td>\n",
       "    </tr>\n",
       "    <tr>\n",
       "      <th>65</th>\n",
       "      <td>Turkey</td>\n",
       "      <td>Anadolu University</td>\n",
       "      <td>1958</td>\n",
       "      <td>Public</td>\n",
       "      <td>1,969,733</td>\n",
       "      <td>https://en.wikipedia.org/wiki/Anadolu_University</td>\n",
       "    </tr>\n",
       "    <tr>\n",
       "      <th>66</th>\n",
       "      <td>United Kingdom</td>\n",
       "      <td>Open University</td>\n",
       "      <td>1969</td>\n",
       "      <td>Public</td>\n",
       "      <td>253,075</td>\n",
       "      <td>https://en.wikipedia.org/wiki/Open_University</td>\n",
       "    </tr>\n",
       "    <tr>\n",
       "      <th>67</th>\n",
       "      <td>United States</td>\n",
       "      <td>Texas A&amp;M University</td>\n",
       "      <td>1876</td>\n",
       "      <td>Public</td>\n",
       "      <td>73,284</td>\n",
       "      <td>https://en.wikipedia.org/wiki/Texas_A%26M_Univ...</td>\n",
       "    </tr>\n",
       "    <tr>\n",
       "      <th>68</th>\n",
       "      <td>Uruguay</td>\n",
       "      <td>University of the Republic</td>\n",
       "      <td>1949</td>\n",
       "      <td>Public</td>\n",
       "      <td>144,108</td>\n",
       "      <td>https://en.wikipedia.org/wiki/University_of_th...</td>\n",
       "    </tr>\n",
       "    <tr>\n",
       "      <th>69</th>\n",
       "      <td>Venezuela</td>\n",
       "      <td>Universidad Central de Venezuela</td>\n",
       "      <td>1721</td>\n",
       "      <td>Public</td>\n",
       "      <td>41,059</td>\n",
       "      <td>https://en.wikipedia.org/wiki/Universidad_Cent...</td>\n",
       "    </tr>\n",
       "  </tbody>\n",
       "</table>\n",
       "<p>70 rows × 6 columns</p>\n",
       "</div>"
      ],
      "text/plain": [
       "           Country                        University Founded    Type  \\\n",
       "0          Albania              University of Tirana    1957  Public   \n",
       "1          Algeria            Constantine University    1978  Public   \n",
       "2           Angola         Agostinho Neto University    1962  Public   \n",
       "3        Argentina        University of Buenos Aires    1821  Public   \n",
       "4        Australia                 Monash University    1958  Public   \n",
       "..             ...                               ...     ...     ...   \n",
       "65          Turkey                Anadolu University    1958  Public   \n",
       "66  United Kingdom                   Open University    1969  Public   \n",
       "67   United States              Texas A&M University    1876  Public   \n",
       "68         Uruguay        University of the Republic    1949  Public   \n",
       "69       Venezuela  Universidad Central de Venezuela    1721  Public   \n",
       "\n",
       "   Enrollment                                               Link  \n",
       "0      35,000  https://en.wikipedia.org/wiki/University_of_Ti...  \n",
       "1      85,000  https://en.wikipedia.org/wiki/List_of_universi...  \n",
       "2      29,827  https://en.wikipedia.org/wiki/Agostinho_Neto_U...  \n",
       "3     311,175  https://en.wikipedia.org/wiki/University_of_Bu...  \n",
       "4      73,807    https://en.wikipedia.org/wiki/Monash_University  \n",
       "..        ...                                                ...  \n",
       "65  1,969,733   https://en.wikipedia.org/wiki/Anadolu_University  \n",
       "66    253,075      https://en.wikipedia.org/wiki/Open_University  \n",
       "67     73,284  https://en.wikipedia.org/wiki/Texas_A%26M_Univ...  \n",
       "68    144,108  https://en.wikipedia.org/wiki/University_of_th...  \n",
       "69     41,059  https://en.wikipedia.org/wiki/Universidad_Cent...  \n",
       "\n",
       "[70 rows x 6 columns]"
      ]
     },
     "execution_count": 26,
     "metadata": {},
     "output_type": "execute_result"
    }
   ],
   "source": [
    "df"
   ]
  },
  {
   "cell_type": "code",
   "execution_count": 27,
   "metadata": {},
   "outputs": [
    {
     "name": "stdout",
     "output_type": "stream",
     "text": [
      "<class 'pandas.core.frame.DataFrame'>\n",
      "RangeIndex: 70 entries, 0 to 69\n",
      "Data columns (total 6 columns):\n",
      " #   Column      Non-Null Count  Dtype \n",
      "---  ------      --------------  ----- \n",
      " 0   Country     70 non-null     object\n",
      " 1   University  70 non-null     object\n",
      " 2   Founded     70 non-null     object\n",
      " 3   Type        70 non-null     object\n",
      " 4   Enrollment  70 non-null     object\n",
      " 5   Link        70 non-null     object\n",
      "dtypes: object(6)\n",
      "memory usage: 3.4+ KB\n"
     ]
    }
   ],
   "source": [
    "df.info()"
   ]
  },
  {
   "cell_type": "code",
   "execution_count": 28,
   "metadata": {},
   "outputs": [
    {
     "data": {
      "text/plain": [
       "array(['1957', '1978', '1962', '1821', '1958', '1365', '1992', '1921',\n",
       "       '1425', '1949', '1982', '1970', '1888', '1827', '1960', '1867',\n",
       "       '1940', '1669', '1928', '1538', '1950', '1632', '1640', '1939',\n",
       "       '1998', '1837', '1676', '1937', '1911', '1985', '1984', '1982',\n",
       "       '1834', '1956', '1303', '1889', '1970', '1999', '1579', '2000',\n",
       "       '1956', '1551', '1959', '1632', '1883', '1943', '1996', '2002',\n",
       "       '1551', '1904', '1816', '1288', '1991', '1992', '1976', '1905',\n",
       "       '1919', '1873', '1972', '1972', '1666', '1833[34]', '1928', '1971',\n",
       "       '1960', '1958', '1969', '1876', '1949', '1721'], dtype=object)"
      ]
     },
     "execution_count": 28,
     "metadata": {},
     "output_type": "execute_result"
    }
   ],
   "source": [
    "df['Founded'].values"
   ]
  },
  {
   "cell_type": "code",
   "execution_count": 29,
   "metadata": {},
   "outputs": [],
   "source": [
    "#To extract only the first four digits for the year (as you can see 1833 has extra characters)\n",
    "df['Founded'] = df['Founded'].str.extract(\"(\\d{4})\")"
   ]
  },
  {
   "cell_type": "code",
   "execution_count": 30,
   "metadata": {},
   "outputs": [
    {
     "data": {
      "text/plain": [
       "array(['1957', '1978', '1962', '1821', '1958', '1365', '1992', '1921',\n",
       "       '1425', '1949', '1982', '1970', '1888', '1827', '1960', '1867',\n",
       "       '1940', '1669', '1928', '1538', '1950', '1632', '1640', '1939',\n",
       "       '1998', '1837', '1676', '1937', '1911', '1985', '1984', '1982',\n",
       "       '1834', '1956', '1303', '1889', '1970', '1999', '1579', '2000',\n",
       "       '1956', '1551', '1959', '1632', '1883', '1943', '1996', '2002',\n",
       "       '1551', '1904', '1816', '1288', '1991', '1992', '1976', '1905',\n",
       "       '1919', '1873', '1972', '1972', '1666', '1833', '1928', '1971',\n",
       "       '1960', '1958', '1969', '1876', '1949', '1721'], dtype=object)"
      ]
     },
     "execution_count": 30,
     "metadata": {},
     "output_type": "execute_result"
    }
   ],
   "source": [
    "df['Founded'].values"
   ]
  },
  {
   "cell_type": "code",
   "execution_count": 31,
   "metadata": {},
   "outputs": [],
   "source": [
    "#To convert the Founded column datatype from string to integers (for years)\n",
    "df['Founded'] = df['Founded'].astype(int)"
   ]
  },
  {
   "cell_type": "code",
   "execution_count": 32,
   "metadata": {},
   "outputs": [
    {
     "name": "stdout",
     "output_type": "stream",
     "text": [
      "<class 'pandas.core.frame.DataFrame'>\n",
      "RangeIndex: 70 entries, 0 to 69\n",
      "Data columns (total 6 columns):\n",
      " #   Column      Non-Null Count  Dtype \n",
      "---  ------      --------------  ----- \n",
      " 0   Country     70 non-null     object\n",
      " 1   University  70 non-null     object\n",
      " 2   Founded     70 non-null     int64 \n",
      " 3   Type        70 non-null     object\n",
      " 4   Enrollment  70 non-null     object\n",
      " 5   Link        70 non-null     object\n",
      "dtypes: int64(1), object(5)\n",
      "memory usage: 3.4+ KB\n"
     ]
    }
   ],
   "source": [
    "df.info()"
   ]
  },
  {
   "cell_type": "code",
   "execution_count": 33,
   "metadata": {},
   "outputs": [
    {
     "data": {
      "text/html": [
       "<div>\n",
       "<style scoped>\n",
       "    .dataframe tbody tr th:only-of-type {\n",
       "        vertical-align: middle;\n",
       "    }\n",
       "\n",
       "    .dataframe tbody tr th {\n",
       "        vertical-align: top;\n",
       "    }\n",
       "\n",
       "    .dataframe thead th {\n",
       "        text-align: right;\n",
       "    }\n",
       "</style>\n",
       "<table border=\"1\" class=\"dataframe\">\n",
       "  <thead>\n",
       "    <tr style=\"text-align: right;\">\n",
       "      <th></th>\n",
       "      <th>Country</th>\n",
       "      <th>University</th>\n",
       "      <th>Founded</th>\n",
       "      <th>Type</th>\n",
       "      <th>Enrollment</th>\n",
       "      <th>Link</th>\n",
       "    </tr>\n",
       "  </thead>\n",
       "  <tbody>\n",
       "  </tbody>\n",
       "</table>\n",
       "</div>"
      ],
      "text/plain": [
       "Empty DataFrame\n",
       "Columns: [Country, University, Founded, Type, Enrollment, Link]\n",
       "Index: []"
      ]
     },
     "execution_count": 33,
     "metadata": {},
     "output_type": "execute_result"
    }
   ],
   "source": [
    "df[df['Link'].isnull()]"
   ]
  },
  {
   "cell_type": "code",
   "execution_count": 34,
   "metadata": {},
   "outputs": [
    {
     "data": {
      "text/plain": [
       "array(['35,000', '85,000', '29,827', '311,175', '73,807', '91,000',\n",
       "       '2,097,182', '25,500', '55,484', '30,866', '32,000', '215,000',\n",
       "       '18 911', '84,000', '80,000', '53,581', '42,750', '72,480',\n",
       "       '43,600', '170,530', '170,000', '14,000', '36,500', '350,000[8]',\n",
       "       '130,000', '104,000', '124,000', '32,000', '13,782', '7,140,000',\n",
       "       '1,045,665 (total) as per 2019/2020[14]\\n311,028 (active) as per 4 November 2020 [15]',\n",
       "       '1,000,000', '32,900', '26,023', '112,564', '70,667', '84,000',\n",
       "       '41,833', '23,606', '10,373', '100,000', '349,515', '604,437',\n",
       "       '31,186', '33,050', '50,000', '39,000', '165,000', '37,032',\n",
       "       '68,249', '44,400', '48,100', '311,928', '200,000', '177,234',\n",
       "       '38,300', '48,821', '328,179', '173,758', '260,079', '30,646',\n",
       "       '26,356', '31,758', '525,000', '60,000+', '1,969,733', '253,075',\n",
       "       '73,284', '144,108', '41,059'], dtype=object)"
      ]
     },
     "execution_count": 34,
     "metadata": {},
     "output_type": "execute_result"
    }
   ],
   "source": [
    "df['Enrollment'].values"
   ]
  },
  {
   "cell_type": "code",
   "execution_count": 35,
   "metadata": {},
   "outputs": [],
   "source": [
    "df['Enrollment'] = df['Enrollment'].str.replace(' ', ',')"
   ]
  },
  {
   "cell_type": "code",
   "execution_count": 36,
   "metadata": {},
   "outputs": [],
   "source": [
    "df['Enrollment'] = df['Enrollment'].str.extract(\"(\\d{1,3}(?:,\\d{1,3})*)\")"
   ]
  },
  {
   "cell_type": "code",
   "execution_count": 37,
   "metadata": {},
   "outputs": [
    {
     "data": {
      "text/plain": [
       "array(['35,000', '85,000', '29,827', '311,175', '73,807', '91,000',\n",
       "       '2,097,182', '25,500', '55,484', '30,866', '32,000', '215,000',\n",
       "       '18,911', '84,000', '80,000', '53,581', '42,750', '72,480',\n",
       "       '43,600', '170,530', '170,000', '14,000', '36,500', '350,000',\n",
       "       '130,000', '104,000', '124,000', '32,000', '13,782', '7,140,000',\n",
       "       '1,045,665', '1,000,000', '32,900', '26,023', '112,564', '70,667',\n",
       "       '84,000', '41,833', '23,606', '10,373', '100,000', '349,515',\n",
       "       '604,437', '31,186', '33,050', '50,000', '39,000', '165,000',\n",
       "       '37,032', '68,249', '44,400', '48,100', '311,928', '200,000',\n",
       "       '177,234', '38,300', '48,821', '328,179', '173,758', '260,079',\n",
       "       '30,646', '26,356', '31,758', '525,000', '60,000', '1,969,733',\n",
       "       '253,075', '73,284', '144,108', '41,059'], dtype=object)"
      ]
     },
     "execution_count": 37,
     "metadata": {},
     "output_type": "execute_result"
    }
   ],
   "source": [
    "df['Enrollment'].values"
   ]
  },
  {
   "cell_type": "code",
   "execution_count": 38,
   "metadata": {},
   "outputs": [],
   "source": [
    "df['Enrollment'] = df['Enrollment'].str.replace(',', '')"
   ]
  },
  {
   "cell_type": "code",
   "execution_count": 39,
   "metadata": {},
   "outputs": [
    {
     "data": {
      "text/html": [
       "<div>\n",
       "<style scoped>\n",
       "    .dataframe tbody tr th:only-of-type {\n",
       "        vertical-align: middle;\n",
       "    }\n",
       "\n",
       "    .dataframe tbody tr th {\n",
       "        vertical-align: top;\n",
       "    }\n",
       "\n",
       "    .dataframe thead th {\n",
       "        text-align: right;\n",
       "    }\n",
       "</style>\n",
       "<table border=\"1\" class=\"dataframe\">\n",
       "  <thead>\n",
       "    <tr style=\"text-align: right;\">\n",
       "      <th></th>\n",
       "      <th>Country</th>\n",
       "      <th>University</th>\n",
       "      <th>Founded</th>\n",
       "      <th>Type</th>\n",
       "      <th>Enrollment</th>\n",
       "      <th>Link</th>\n",
       "    </tr>\n",
       "  </thead>\n",
       "  <tbody>\n",
       "    <tr>\n",
       "      <th>0</th>\n",
       "      <td>Albania</td>\n",
       "      <td>University of Tirana</td>\n",
       "      <td>1957</td>\n",
       "      <td>Public</td>\n",
       "      <td>35000</td>\n",
       "      <td>https://en.wikipedia.org/wiki/University_of_Ti...</td>\n",
       "    </tr>\n",
       "    <tr>\n",
       "      <th>1</th>\n",
       "      <td>Algeria</td>\n",
       "      <td>Constantine University</td>\n",
       "      <td>1978</td>\n",
       "      <td>Public</td>\n",
       "      <td>85000</td>\n",
       "      <td>https://en.wikipedia.org/wiki/List_of_universi...</td>\n",
       "    </tr>\n",
       "    <tr>\n",
       "      <th>2</th>\n",
       "      <td>Angola</td>\n",
       "      <td>Agostinho Neto University</td>\n",
       "      <td>1962</td>\n",
       "      <td>Public</td>\n",
       "      <td>29827</td>\n",
       "      <td>https://en.wikipedia.org/wiki/Agostinho_Neto_U...</td>\n",
       "    </tr>\n",
       "    <tr>\n",
       "      <th>3</th>\n",
       "      <td>Argentina</td>\n",
       "      <td>University of Buenos Aires</td>\n",
       "      <td>1821</td>\n",
       "      <td>Public</td>\n",
       "      <td>311175</td>\n",
       "      <td>https://en.wikipedia.org/wiki/University_of_Bu...</td>\n",
       "    </tr>\n",
       "    <tr>\n",
       "      <th>4</th>\n",
       "      <td>Australia</td>\n",
       "      <td>Monash University</td>\n",
       "      <td>1958</td>\n",
       "      <td>Public</td>\n",
       "      <td>73807</td>\n",
       "      <td>https://en.wikipedia.org/wiki/Monash_University</td>\n",
       "    </tr>\n",
       "  </tbody>\n",
       "</table>\n",
       "</div>"
      ],
      "text/plain": [
       "     Country                  University  Founded    Type Enrollment  \\\n",
       "0    Albania        University of Tirana     1957  Public      35000   \n",
       "1    Algeria      Constantine University     1978  Public      85000   \n",
       "2     Angola   Agostinho Neto University     1962  Public      29827   \n",
       "3  Argentina  University of Buenos Aires     1821  Public     311175   \n",
       "4  Australia           Monash University     1958  Public      73807   \n",
       "\n",
       "                                                Link  \n",
       "0  https://en.wikipedia.org/wiki/University_of_Ti...  \n",
       "1  https://en.wikipedia.org/wiki/List_of_universi...  \n",
       "2  https://en.wikipedia.org/wiki/Agostinho_Neto_U...  \n",
       "3  https://en.wikipedia.org/wiki/University_of_Bu...  \n",
       "4    https://en.wikipedia.org/wiki/Monash_University  "
      ]
     },
     "execution_count": 39,
     "metadata": {},
     "output_type": "execute_result"
    }
   ],
   "source": [
    "df.head()"
   ]
  },
  {
   "cell_type": "code",
   "execution_count": 40,
   "metadata": {},
   "outputs": [],
   "source": [
    "#To convert the Enrolment column datatype from string to integer\n",
    "df['Enrollment'] = df['Enrollment'].astype(int)"
   ]
  },
  {
   "cell_type": "code",
   "execution_count": 41,
   "metadata": {},
   "outputs": [
    {
     "name": "stdout",
     "output_type": "stream",
     "text": [
      "<class 'pandas.core.frame.DataFrame'>\n",
      "RangeIndex: 70 entries, 0 to 69\n",
      "Data columns (total 6 columns):\n",
      " #   Column      Non-Null Count  Dtype \n",
      "---  ------      --------------  ----- \n",
      " 0   Country     70 non-null     object\n",
      " 1   University  70 non-null     object\n",
      " 2   Founded     70 non-null     int64 \n",
      " 3   Type        70 non-null     object\n",
      " 4   Enrollment  70 non-null     int64 \n",
      " 5   Link        70 non-null     object\n",
      "dtypes: int64(2), object(4)\n",
      "memory usage: 3.4+ KB\n"
     ]
    }
   ],
   "source": [
    "df.info()"
   ]
  },
  {
   "cell_type": "code",
   "execution_count": 42,
   "metadata": {},
   "outputs": [
    {
     "data": {
      "text/plain": [
       "array(['Albania', 'Algeria', 'Angola', 'Argentina', 'Australia',\n",
       "       'Austria', 'Bangladesh', 'Belarus', 'Belgium',\n",
       "       'Bosnia and Herzegovina', 'Botswana', 'Brazil', 'Bulgaria',\n",
       "       'Canada', 'China', 'Colombia', 'Costa Rica', 'Croatia', 'Denmark',\n",
       "       'Dominican Republic', 'Egypt', 'Estonia', 'Finland', 'France',\n",
       "       'Germany', 'Greece', 'Guatemala', 'Hong Kong', 'Iceland', 'India',\n",
       "       'Indonesia', 'Iran', 'Ireland', 'Israel', 'Italy', 'Japan',\n",
       "       'Kenya', 'Kosovo', 'Lithuania', 'Macau', 'Malaysia', 'Mexico',\n",
       "       'Nepal', 'Netherlands', 'New Zealand', 'North Macedonia', 'Norway',\n",
       "       'Pakistan', 'Peru', 'Philippines', 'Poland', 'Portugal', 'Romania',\n",
       "       'Russia', 'Saudi Arabia', 'Singapore', 'Slovenia', 'South Africa',\n",
       "       'South Korea', 'Spain', 'Sweden', 'Switzerland', 'Taiwan',\n",
       "       'Thailand', 'Trinidad and Tobago', 'Turkey', 'United Kingdom',\n",
       "       'United States', 'Uruguay', 'Venezuela'], dtype=object)"
      ]
     },
     "execution_count": 42,
     "metadata": {},
     "output_type": "execute_result"
    }
   ],
   "source": [
    "df['Country'].values"
   ]
  },
  {
   "cell_type": "code",
   "execution_count": 43,
   "metadata": {},
   "outputs": [],
   "source": [
    "df.to_csv('universities-clean.csv', index=False)"
   ]
  },
  {
   "cell_type": "markdown",
   "metadata": {},
   "source": [
    "# Loading Layer"
   ]
  },
  {
   "cell_type": "markdown",
   "metadata": {},
   "source": [
    "### Loading into MySQL using Docker"
   ]
  },
  {
   "cell_type": "code",
   "execution_count": 44,
   "metadata": {},
   "outputs": [
    {
     "ename": "RuntimeError",
     "evalue": "'cryptography' package is required for sha256_password or caching_sha2_password auth methods",
     "output_type": "error",
     "traceback": [
      "\u001b[1;31m---------------------------------------------------------------------------\u001b[0m",
      "\u001b[1;31mRuntimeError\u001b[0m                              Traceback (most recent call last)",
      "Cell \u001b[1;32mIn[44], line 2\u001b[0m\n\u001b[0;32m      1\u001b[0m \u001b[38;5;66;03m#Connect to the database\u001b[39;00m\n\u001b[1;32m----> 2\u001b[0m conn \u001b[38;5;241m=\u001b[39m \u001b[43mpymysql\u001b[49m\u001b[38;5;241;43m.\u001b[39;49m\u001b[43mConnect\u001b[49m\u001b[43m(\u001b[49m\n\u001b[0;32m      3\u001b[0m \u001b[43m    \u001b[49m\u001b[43mhost\u001b[49m\u001b[38;5;241;43m=\u001b[39;49m\u001b[43m \u001b[49m\u001b[38;5;124;43m'\u001b[39;49m\u001b[38;5;124;43mlocalhost\u001b[39;49m\u001b[38;5;124;43m'\u001b[39;49m\u001b[43m,\u001b[49m\n\u001b[0;32m      4\u001b[0m \u001b[43m    \u001b[49m\u001b[43mport\u001b[49m\u001b[38;5;241;43m=\u001b[39;49m\u001b[43m \u001b[49m\u001b[38;5;241;43m3306\u001b[39;49m\u001b[43m,\u001b[49m\n\u001b[0;32m      5\u001b[0m \u001b[43m    \u001b[49m\u001b[43mpassword\u001b[49m\u001b[38;5;241;43m=\u001b[39;49m\u001b[43m \u001b[49m\u001b[38;5;124;43m'\u001b[39;49m\u001b[38;5;124;43mwikiuserpassword\u001b[39;49m\u001b[38;5;124;43m'\u001b[39;49m\u001b[43m,\u001b[49m\n\u001b[0;32m      6\u001b[0m \u001b[43m    \u001b[49m\u001b[43muser\u001b[49m\u001b[38;5;241;43m=\u001b[39;49m\u001b[43m \u001b[49m\u001b[38;5;124;43m'\u001b[39;49m\u001b[38;5;124;43mwikiuser\u001b[39;49m\u001b[38;5;124;43m'\u001b[39;49m\u001b[43m,\u001b[49m\n\u001b[0;32m      7\u001b[0m \u001b[43m    \u001b[49m\u001b[43mdatabase\u001b[49m\u001b[43m \u001b[49m\u001b[38;5;241;43m=\u001b[39;49m\u001b[43m \u001b[49m\u001b[38;5;124;43m'\u001b[39;49m\u001b[38;5;124;43mwikidb\u001b[39;49m\u001b[38;5;124;43m'\u001b[39;49m\u001b[43m,\u001b[49m\n\u001b[0;32m      8\u001b[0m \u001b[43m    \u001b[49m\u001b[43mclient_flag\u001b[49m\u001b[38;5;241;43m=\u001b[39;49m\u001b[43mpymysql\u001b[49m\u001b[38;5;241;43m.\u001b[39;49m\u001b[43mconstants\u001b[49m\u001b[38;5;241;43m.\u001b[39;49m\u001b[43mCLIENT\u001b[49m\u001b[38;5;241;43m.\u001b[39;49m\u001b[43mMULTI_STATEMENTS\u001b[49m\u001b[43m \u001b[49m\u001b[38;5;66;43;03m#to read multiple statements in my sql file like DROP TABLE; CREATE TABLE;\u001b[39;49;00m\n\u001b[0;32m      9\u001b[0m \u001b[43m)\u001b[49m\n",
      "File \u001b[1;32mc:\\Users\\bomodambo\\Documents\\10Alytics\\_Portfolio Projects\\Wikipedia Data Scraping\\venv\\Lib\\site-packages\\pymysql\\connections.py:361\u001b[0m, in \u001b[0;36mConnection.__init__\u001b[1;34m(self, user, password, host, database, unix_socket, port, charset, collation, sql_mode, read_default_file, conv, use_unicode, client_flag, cursorclass, init_command, connect_timeout, read_default_group, autocommit, local_infile, max_allowed_packet, defer_connect, auth_plugin_map, read_timeout, write_timeout, bind_address, binary_prefix, program_name, server_public_key, ssl, ssl_ca, ssl_cert, ssl_disabled, ssl_key, ssl_key_password, ssl_verify_cert, ssl_verify_identity, compress, named_pipe, passwd, db)\u001b[0m\n\u001b[0;32m    359\u001b[0m     \u001b[38;5;28mself\u001b[39m\u001b[38;5;241m.\u001b[39m_sock \u001b[38;5;241m=\u001b[39m \u001b[38;5;28;01mNone\u001b[39;00m\n\u001b[0;32m    360\u001b[0m \u001b[38;5;28;01melse\u001b[39;00m:\n\u001b[1;32m--> 361\u001b[0m     \u001b[38;5;28;43mself\u001b[39;49m\u001b[38;5;241;43m.\u001b[39;49m\u001b[43mconnect\u001b[49m\u001b[43m(\u001b[49m\u001b[43m)\u001b[49m\n",
      "File \u001b[1;32mc:\\Users\\bomodambo\\Documents\\10Alytics\\_Portfolio Projects\\Wikipedia Data Scraping\\venv\\Lib\\site-packages\\pymysql\\connections.py:669\u001b[0m, in \u001b[0;36mConnection.connect\u001b[1;34m(self, sock)\u001b[0m\n\u001b[0;32m    666\u001b[0m \u001b[38;5;28mself\u001b[39m\u001b[38;5;241m.\u001b[39m_next_seq_id \u001b[38;5;241m=\u001b[39m \u001b[38;5;241m0\u001b[39m\n\u001b[0;32m    668\u001b[0m \u001b[38;5;28mself\u001b[39m\u001b[38;5;241m.\u001b[39m_get_server_information()\n\u001b[1;32m--> 669\u001b[0m \u001b[38;5;28;43mself\u001b[39;49m\u001b[38;5;241;43m.\u001b[39;49m\u001b[43m_request_authentication\u001b[49m\u001b[43m(\u001b[49m\u001b[43m)\u001b[49m\n\u001b[0;32m    671\u001b[0m \u001b[38;5;66;03m# Send \"SET NAMES\" query on init for:\u001b[39;00m\n\u001b[0;32m    672\u001b[0m \u001b[38;5;66;03m# - Ensure charaset (and collation) is set to the server.\u001b[39;00m\n\u001b[0;32m    673\u001b[0m \u001b[38;5;66;03m#   - collation_id in handshake packet may be ignored.\u001b[39;00m\n\u001b[1;32m   (...)\u001b[0m\n\u001b[0;32m    682\u001b[0m \u001b[38;5;66;03m# - https://github.com/wagtail/wagtail/issues/9477\u001b[39;00m\n\u001b[0;32m    683\u001b[0m \u001b[38;5;66;03m# - https://zenn.dev/methane/articles/2023-mysql-collation (Japanese)\u001b[39;00m\n\u001b[0;32m    684\u001b[0m \u001b[38;5;28mself\u001b[39m\u001b[38;5;241m.\u001b[39mset_character_set(\u001b[38;5;28mself\u001b[39m\u001b[38;5;241m.\u001b[39mcharset, \u001b[38;5;28mself\u001b[39m\u001b[38;5;241m.\u001b[39mcollation)\n",
      "File \u001b[1;32mc:\\Users\\bomodambo\\Documents\\10Alytics\\_Portfolio Projects\\Wikipedia Data Scraping\\venv\\Lib\\site-packages\\pymysql\\connections.py:979\u001b[0m, in \u001b[0;36mConnection._request_authentication\u001b[1;34m(self)\u001b[0m\n\u001b[0;32m    977\u001b[0m \u001b[38;5;66;03m# https://dev.mysql.com/doc/internals/en/successful-authentication.html\u001b[39;00m\n\u001b[0;32m    978\u001b[0m \u001b[38;5;28;01mif\u001b[39;00m \u001b[38;5;28mself\u001b[39m\u001b[38;5;241m.\u001b[39m_auth_plugin_name \u001b[38;5;241m==\u001b[39m \u001b[38;5;124m\"\u001b[39m\u001b[38;5;124mcaching_sha2_password\u001b[39m\u001b[38;5;124m\"\u001b[39m:\n\u001b[1;32m--> 979\u001b[0m     auth_packet \u001b[38;5;241m=\u001b[39m \u001b[43m_auth\u001b[49m\u001b[38;5;241;43m.\u001b[39;49m\u001b[43mcaching_sha2_password_auth\u001b[49m\u001b[43m(\u001b[49m\u001b[38;5;28;43mself\u001b[39;49m\u001b[43m,\u001b[49m\u001b[43m \u001b[49m\u001b[43mauth_packet\u001b[49m\u001b[43m)\u001b[49m\n\u001b[0;32m    980\u001b[0m \u001b[38;5;28;01melif\u001b[39;00m \u001b[38;5;28mself\u001b[39m\u001b[38;5;241m.\u001b[39m_auth_plugin_name \u001b[38;5;241m==\u001b[39m \u001b[38;5;124m\"\u001b[39m\u001b[38;5;124msha256_password\u001b[39m\u001b[38;5;124m\"\u001b[39m:\n\u001b[0;32m    981\u001b[0m     auth_packet \u001b[38;5;241m=\u001b[39m _auth\u001b[38;5;241m.\u001b[39msha256_password_auth(\u001b[38;5;28mself\u001b[39m, auth_packet)\n",
      "File \u001b[1;32mc:\\Users\\bomodambo\\Documents\\10Alytics\\_Portfolio Projects\\Wikipedia Data Scraping\\venv\\Lib\\site-packages\\pymysql\\_auth.py:267\u001b[0m, in \u001b[0;36mcaching_sha2_password_auth\u001b[1;34m(conn, pkt)\u001b[0m\n\u001b[0;32m    264\u001b[0m     \u001b[38;5;28;01mif\u001b[39;00m DEBUG:\n\u001b[0;32m    265\u001b[0m         \u001b[38;5;28mprint\u001b[39m(conn\u001b[38;5;241m.\u001b[39mserver_public_key\u001b[38;5;241m.\u001b[39mdecode(\u001b[38;5;124m\"\u001b[39m\u001b[38;5;124mascii\u001b[39m\u001b[38;5;124m\"\u001b[39m))\n\u001b[1;32m--> 267\u001b[0m data \u001b[38;5;241m=\u001b[39m \u001b[43msha2_rsa_encrypt\u001b[49m\u001b[43m(\u001b[49m\u001b[43mconn\u001b[49m\u001b[38;5;241;43m.\u001b[39;49m\u001b[43mpassword\u001b[49m\u001b[43m,\u001b[49m\u001b[43m \u001b[49m\u001b[43mconn\u001b[49m\u001b[38;5;241;43m.\u001b[39;49m\u001b[43msalt\u001b[49m\u001b[43m,\u001b[49m\u001b[43m \u001b[49m\u001b[43mconn\u001b[49m\u001b[38;5;241;43m.\u001b[39;49m\u001b[43mserver_public_key\u001b[49m\u001b[43m)\u001b[49m\n\u001b[0;32m    268\u001b[0m pkt \u001b[38;5;241m=\u001b[39m _roundtrip(conn, data)\n",
      "File \u001b[1;32mc:\\Users\\bomodambo\\Documents\\10Alytics\\_Portfolio Projects\\Wikipedia Data Scraping\\venv\\Lib\\site-packages\\pymysql\\_auth.py:144\u001b[0m, in \u001b[0;36msha2_rsa_encrypt\u001b[1;34m(password, salt, public_key)\u001b[0m\n\u001b[0;32m    139\u001b[0m \u001b[38;5;250m\u001b[39m\u001b[38;5;124;03m\"\"\"Encrypt password with salt and public_key.\u001b[39;00m\n\u001b[0;32m    140\u001b[0m \n\u001b[0;32m    141\u001b[0m \u001b[38;5;124;03mUsed for sha256_password and caching_sha2_password.\u001b[39;00m\n\u001b[0;32m    142\u001b[0m \u001b[38;5;124;03m\"\"\"\u001b[39;00m\n\u001b[0;32m    143\u001b[0m \u001b[38;5;28;01mif\u001b[39;00m \u001b[38;5;129;01mnot\u001b[39;00m _have_cryptography:\n\u001b[1;32m--> 144\u001b[0m     \u001b[38;5;28;01mraise\u001b[39;00m \u001b[38;5;167;01mRuntimeError\u001b[39;00m(\n\u001b[0;32m    145\u001b[0m         \u001b[38;5;124m\"\u001b[39m\u001b[38;5;124m'\u001b[39m\u001b[38;5;124mcryptography\u001b[39m\u001b[38;5;124m'\u001b[39m\u001b[38;5;124m package is required for sha256_password or\u001b[39m\u001b[38;5;124m\"\u001b[39m\n\u001b[0;32m    146\u001b[0m         \u001b[38;5;241m+\u001b[39m \u001b[38;5;124m\"\u001b[39m\u001b[38;5;124m caching_sha2_password auth methods\u001b[39m\u001b[38;5;124m\"\u001b[39m\n\u001b[0;32m    147\u001b[0m     )\n\u001b[0;32m    148\u001b[0m message \u001b[38;5;241m=\u001b[39m _xor_password(password \u001b[38;5;241m+\u001b[39m \u001b[38;5;124mb\u001b[39m\u001b[38;5;124m\"\u001b[39m\u001b[38;5;130;01m\\0\u001b[39;00m\u001b[38;5;124m\"\u001b[39m, salt)\n\u001b[0;32m    149\u001b[0m rsa_key \u001b[38;5;241m=\u001b[39m serialization\u001b[38;5;241m.\u001b[39mload_pem_public_key(public_key, default_backend())\n",
      "\u001b[1;31mRuntimeError\u001b[0m: 'cryptography' package is required for sha256_password or caching_sha2_password auth methods"
     ]
    }
   ],
   "source": [
    "#Connect to the database\n",
    "conn = pymysql.Connect(\n",
    "    host= 'localhost',\n",
    "    port= 3306,\n",
    "    password= 'wikiuserpassword',\n",
    "    user= 'wikiuser',\n",
    "    database = 'wikidb',\n",
    "    client_flag=pymysql.constants.CLIENT.MULTI_STATEMENTS #to read multiple statements in my sql file like DROP TABLE; CREATE TABLE;\n",
    ")"
   ]
  },
  {
   "cell_type": "code",
   "execution_count": 45,
   "metadata": {},
   "outputs": [],
   "source": [
    "#Create cursor to interact with the database\n",
    "cursor = conn.cursor()"
   ]
  },
  {
   "cell_type": "code",
   "execution_count": 46,
   "metadata": {},
   "outputs": [
    {
     "data": {
      "text/plain": [
       "0"
      ]
     },
     "execution_count": 46,
     "metadata": {},
     "output_type": "execute_result"
    }
   ],
   "source": [
    "cursor.execute(\"SHOW TABLES;\")"
   ]
  },
  {
   "cell_type": "code",
   "execution_count": 47,
   "metadata": {},
   "outputs": [
    {
     "data": {
      "text/plain": [
       "()"
      ]
     },
     "execution_count": 47,
     "metadata": {},
     "output_type": "execute_result"
    }
   ],
   "source": [
    "cursor.fetchall()"
   ]
  },
  {
   "cell_type": "code",
   "execution_count": 48,
   "metadata": {},
   "outputs": [
    {
     "data": {
      "text/plain": [
       "'DROP TABLE IF EXISTS universities;\\n\\nCREATE TABLE universities(\\n        id BIGINT AUTO_INCREMENT PRIMARY KEY NOT NULL,\\n        country VARCHAR (255) NOT NULL,\\n        university_name VARCHAR (255) NOT NULL,\\n        founded INT NOT NULL,\\n        `type` VARCHAR (255) NOT NULL,\\n        enrollment BIGINT NOT NULL,\\n        link VARCHAR (255) NOT NULL,\\n        CONSTRAINT unique_combination UNIQUE(country, university_name)\\n);'"
      ]
     },
     "execution_count": 48,
     "metadata": {},
     "output_type": "execute_result"
    }
   ],
   "source": [
    "create_query = open('./sql/mysql_create_tables.sql')\n",
    "create_query = create_query.read()\n",
    "create_query"
   ]
  },
  {
   "cell_type": "code",
   "execution_count": 49,
   "metadata": {},
   "outputs": [
    {
     "data": {
      "text/plain": [
       "0"
      ]
     },
     "execution_count": 49,
     "metadata": {},
     "output_type": "execute_result"
    }
   ],
   "source": [
    "cursor.execute(create_query)"
   ]
  },
  {
   "cell_type": "code",
   "execution_count": 50,
   "metadata": {},
   "outputs": [],
   "source": [
    "#Load data into tables already created\n",
    "mysql_data = list(df.itertuples(index=None, name=None))"
   ]
  },
  {
   "cell_type": "code",
   "execution_count": 51,
   "metadata": {},
   "outputs": [
    {
     "data": {
      "text/plain": [
       "(('Albania',\n",
       "  'University of Tirana',\n",
       "  1957,\n",
       "  'Public',\n",
       "  35000,\n",
       "  'https://en.wikipedia.org/wiki/University_of_Tirana'),\n",
       " ('Algeria',\n",
       "  'Constantine University',\n",
       "  1978,\n",
       "  'Public',\n",
       "  85000,\n",
       "  'https://en.wikipedia.org/wiki/List_of_universities_in_Algeria'),\n",
       " ('Angola',\n",
       "  'Agostinho Neto University',\n",
       "  1962,\n",
       "  'Public',\n",
       "  29827,\n",
       "  'https://en.wikipedia.org/wiki/Agostinho_Neto_University'),\n",
       " ('Argentina',\n",
       "  'University of Buenos Aires',\n",
       "  1821,\n",
       "  'Public',\n",
       "  311175,\n",
       "  'https://en.wikipedia.org/wiki/University_of_Buenos_Aires'),\n",
       " ('Australia',\n",
       "  'Monash University',\n",
       "  1958,\n",
       "  'Public',\n",
       "  73807,\n",
       "  'https://en.wikipedia.org/wiki/Monash_University'),\n",
       " ('Austria',\n",
       "  'University of Vienna',\n",
       "  1365,\n",
       "  'Public',\n",
       "  91000,\n",
       "  'https://en.wikipedia.org/wiki/University_of_Vienna'),\n",
       " ('Bangladesh',\n",
       "  'National University, Bangladesh',\n",
       "  1992,\n",
       "  'Public',\n",
       "  2097182,\n",
       "  'https://en.wikipedia.org/wiki/National_University,_Bangladesh'),\n",
       " ('Belarus',\n",
       "  'Belarusian State University',\n",
       "  1921,\n",
       "  'Public',\n",
       "  25500,\n",
       "  'https://en.wikipedia.org/wiki/Belarusian_State_University'),\n",
       " ('Belgium',\n",
       "  'KU Leuven',\n",
       "  1425,\n",
       "  'Private, state-funded',\n",
       "  55484,\n",
       "  'https://en.wikipedia.org/wiki/Katholieke_Universiteit_Leuven'),\n",
       " ('Bosnia and Herzegovina',\n",
       "  'University of Sarajevo',\n",
       "  1949,\n",
       "  'Public',\n",
       "  30866,\n",
       "  'https://en.wikipedia.org/wiki/University_of_Sarajevo'),\n",
       " ('Botswana',\n",
       "  'University of Botswana',\n",
       "  1982,\n",
       "  'Public',\n",
       "  32000,\n",
       "  'https://en.wikipedia.org/wiki/University_of_Botswana'),\n",
       " ('Brazil',\n",
       "  'Estácio de Sá University',\n",
       "  1970,\n",
       "  'Private',\n",
       "  215000,\n",
       "  'https://en.wikipedia.org/wiki/Est%C3%A1cio_de_S%C3%A1_University'),\n",
       " ('Bulgaria',\n",
       "  'Sofia University',\n",
       "  1888,\n",
       "  'Public',\n",
       "  18911,\n",
       "  'https://en.wikipedia.org/wiki/Sofia_University'),\n",
       " ('Canada',\n",
       "  'University of Toronto',\n",
       "  1827,\n",
       "  'Public',\n",
       "  84000,\n",
       "  'https://en.wikipedia.org/wiki/University_of_Toronto'),\n",
       " ('China',\n",
       "  'Shanghai Open University',\n",
       "  1960,\n",
       "  'Public',\n",
       "  80000,\n",
       "  'https://en.wikipedia.org/wiki/Shanghai_Open_University'),\n",
       " ('Colombia',\n",
       "  'National University of Colombia',\n",
       "  1867,\n",
       "  'Public',\n",
       "  53581,\n",
       "  'https://en.wikipedia.org/wiki/National_University_of_Colombia'),\n",
       " ('Costa Rica',\n",
       "  'Universidad de Costa Rica',\n",
       "  1940,\n",
       "  'Public',\n",
       "  42750,\n",
       "  'https://en.wikipedia.org/wiki/Universidad_de_Costa_Rica'),\n",
       " ('Croatia',\n",
       "  'University of Zagreb',\n",
       "  1669,\n",
       "  'Public',\n",
       "  72480,\n",
       "  'https://en.wikipedia.org/wiki/University_of_Zagreb'),\n",
       " ('Denmark',\n",
       "  'Aarhus University',\n",
       "  1928,\n",
       "  'Public',\n",
       "  43600,\n",
       "  'https://en.wikipedia.org/wiki/Aarhus_University'),\n",
       " ('Dominican Republic',\n",
       "  'Universidad Autónoma de Santo Domingo',\n",
       "  1538,\n",
       "  'Public',\n",
       "  170530,\n",
       "  'https://en.wikipedia.org/wiki/Universidad_Aut%C3%B3noma_de_Santo_Domingo'),\n",
       " ('Egypt',\n",
       "  'Ain Shams University',\n",
       "  1950,\n",
       "  'Public',\n",
       "  170000,\n",
       "  'https://en.wikipedia.org/wiki/Ain_Shams_University'),\n",
       " ('Estonia',\n",
       "  'University of Tartu',\n",
       "  1632,\n",
       "  'Public',\n",
       "  14000,\n",
       "  'https://en.wikipedia.org/wiki/University_of_Tartu'),\n",
       " ('Finland',\n",
       "  'University of Helsinki',\n",
       "  1640,\n",
       "  'Public',\n",
       "  36500,\n",
       "  'https://en.wikipedia.org/wiki/University_of_Helsinki'),\n",
       " ('France',\n",
       "  \"Centre national d'enseignement à distance\",\n",
       "  1939,\n",
       "  'Public',\n",
       "  350000,\n",
       "  'https://en.wikipedia.org/wiki/Centre_national_d%27enseignement_%C3%A0_distance'),\n",
       " ('Germany',\n",
       "  'IU International University of Applied Sciences',\n",
       "  1998,\n",
       "  'Private',\n",
       "  130000,\n",
       "  'https://en.wikipedia.org/wiki/IU_International_University_of_Applied_Sciences'),\n",
       " ('Greece',\n",
       "  'National and Kapodistrian University of Athens',\n",
       "  1837,\n",
       "  'Public',\n",
       "  104000,\n",
       "  'https://en.wikipedia.org/wiki/National_and_Kapodistrian_University_of_Athens'),\n",
       " ('Guatemala',\n",
       "  'Universidad de San Carlos de Guatemala',\n",
       "  1676,\n",
       "  'Public',\n",
       "  124000,\n",
       "  'https://en.wikipedia.org/wiki/Universidad_de_San_Carlos_de_Guatemala'),\n",
       " ('Hong Kong',\n",
       "  'Hong Kong Polytechnic University',\n",
       "  1937,\n",
       "  'Public',\n",
       "  32000,\n",
       "  'https://en.wikipedia.org/wiki/Hong_Kong_Polytechnic_University'),\n",
       " ('Iceland',\n",
       "  'University of Iceland',\n",
       "  1911,\n",
       "  'Public',\n",
       "  13782,\n",
       "  'https://en.wikipedia.org/wiki/University_of_Iceland'),\n",
       " ('India',\n",
       "  'Indira Gandhi National Open University',\n",
       "  1985,\n",
       "  'Public',\n",
       "  7140000,\n",
       "  'https://en.wikipedia.org/wiki/Indira_Gandhi_National_Open_University'),\n",
       " ('Indonesia',\n",
       "  'Universitas Terbuka',\n",
       "  1984,\n",
       "  'Public',\n",
       "  1045665,\n",
       "  'https://en.wikipedia.org/wiki/Universitas_Terbuka'),\n",
       " ('Iran',\n",
       "  'Islamic Azad University',\n",
       "  1982,\n",
       "  'Semi-private',\n",
       "  1000000,\n",
       "  'https://en.wikipedia.org/wiki/Islamic_Azad_University'),\n",
       " ('Ireland',\n",
       "  'University College Dublin',\n",
       "  1834,\n",
       "  'Public (formerly private)',\n",
       "  32900,\n",
       "  'https://en.wikipedia.org/wiki/University_College_Dublin'),\n",
       " ('Israel',\n",
       "  'Tel Aviv University',\n",
       "  1956,\n",
       "  'Public',\n",
       "  26023,\n",
       "  'https://en.wikipedia.org/wiki/Tel_Aviv_University'),\n",
       " ('Italy',\n",
       "  'Sapienza University of Rome',\n",
       "  1303,\n",
       "  'Public',\n",
       "  112564,\n",
       "  'https://en.wikipedia.org/wiki/Sapienza_University_of_Rome'),\n",
       " ('Japan',\n",
       "  'Nihon University',\n",
       "  1889,\n",
       "  'Private',\n",
       "  70667,\n",
       "  'https://en.wikipedia.org/wiki/Nihon_University'),\n",
       " ('Kenya',\n",
       "  'University of Nairobi',\n",
       "  1970,\n",
       "  'Public',\n",
       "  84000,\n",
       "  'https://en.wikipedia.org/wiki/University_of_Nairobi'),\n",
       " ('Kosovo',\n",
       "  'Universiteti i Prishtinës',\n",
       "  1999,\n",
       "  'Public',\n",
       "  41833,\n",
       "  'https://en.wikipedia.org/wiki/Universiteti_i_Prishtin%C3%ABs'),\n",
       " ('Lithuania',\n",
       "  'Vilnius University',\n",
       "  1579,\n",
       "  'Public',\n",
       "  23606,\n",
       "  'https://en.wikipedia.org/wiki/Vilnius_University'),\n",
       " ('Macau',\n",
       "  'Macau University of Science and Technology',\n",
       "  2000,\n",
       "  'Private',\n",
       "  10373,\n",
       "  'https://en.wikipedia.org/wiki/Macau_University_of_Science_and_Technology'),\n",
       " ('Malaysia',\n",
       "  'Universiti Teknologi MARA',\n",
       "  1956,\n",
       "  'Public',\n",
       "  100000,\n",
       "  'https://en.wikipedia.org/wiki/Universiti_Teknologi_MARA'),\n",
       " ('Mexico',\n",
       "  'National Autonomous University of Mexico',\n",
       "  1551,\n",
       "  'Public',\n",
       "  349515,\n",
       "  'https://en.wikipedia.org/wiki/National_Autonomous_University_of_Mexico'),\n",
       " ('Nepal',\n",
       "  'Tribhuvan University',\n",
       "  1959,\n",
       "  'Public',\n",
       "  604437,\n",
       "  'https://en.wikipedia.org/wiki/Tribhuvan_University'),\n",
       " ('Netherlands',\n",
       "  'University of Amsterdam',\n",
       "  1632,\n",
       "  'Public',\n",
       "  31186,\n",
       "  'https://en.wikipedia.org/wiki/University_of_Amsterdam'),\n",
       " ('New Zealand',\n",
       "  'University of Auckland',\n",
       "  1883,\n",
       "  'Public',\n",
       "  33050,\n",
       "  'https://en.wikipedia.org/wiki/University_of_Auckland'),\n",
       " ('North Macedonia',\n",
       "  'University of Skopje',\n",
       "  1943,\n",
       "  'Public',\n",
       "  50000,\n",
       "  'https://en.wikipedia.org/wiki/University_of_Skopje'),\n",
       " ('Norway',\n",
       "  'Norwegian University of Science and Technology',\n",
       "  1996,\n",
       "  'Public',\n",
       "  39000,\n",
       "  'https://en.wikipedia.org/wiki/Norwegian_University_of_Science_and_Technology'),\n",
       " ('Pakistan',\n",
       "  'Virtual University of Pakistan',\n",
       "  2002,\n",
       "  'Public',\n",
       "  165000,\n",
       "  'https://en.wikipedia.org/wiki/Virtual_University_of_Pakistan'),\n",
       " ('Peru',\n",
       "  'National University of San Marcos',\n",
       "  1551,\n",
       "  'Private',\n",
       "  37032,\n",
       "  'https://en.wikipedia.org/wiki/National_University_of_San_Marcos'),\n",
       " ('Philippines',\n",
       "  'Polytechnic University of the Philippines',\n",
       "  1904,\n",
       "  'Public',\n",
       "  68249,\n",
       "  'https://en.wikipedia.org/wiki/Polytechnic_University_of_the_Philippines'),\n",
       " ('Poland',\n",
       "  'University of Warsaw',\n",
       "  1816,\n",
       "  'Public',\n",
       "  44400,\n",
       "  'https://en.wikipedia.org/wiki/University_of_Warsaw'),\n",
       " ('Portugal',\n",
       "  'University of Lisbon',\n",
       "  1288,\n",
       "  'Public',\n",
       "  48100,\n",
       "  'https://en.wikipedia.org/wiki/University_of_Lisbon'),\n",
       " ('Romania',\n",
       "  'Spiru Haret University',\n",
       "  1991,\n",
       "  'Private',\n",
       "  311928,\n",
       "  'https://en.wikipedia.org/wiki/Spiru_Haret_University'),\n",
       " ('Russia',\n",
       "  'Modern University for the Humanities',\n",
       "  1992,\n",
       "  'Private',\n",
       "  200000,\n",
       "  'https://en.wikipedia.org/wiki/Modern_University_for_the_Humanities'),\n",
       " ('Saudi Arabia',\n",
       "  'King Abdulaziz University',\n",
       "  1976,\n",
       "  'Public',\n",
       "  177234,\n",
       "  'https://en.wikipedia.org/wiki/King_Abdulaziz_University'),\n",
       " ('Singapore',\n",
       "  'National University of Singapore',\n",
       "  1905,\n",
       "  'Public',\n",
       "  38300,\n",
       "  'https://en.wikipedia.org/wiki/National_University_of_Singapore'),\n",
       " ('Slovenia',\n",
       "  'University of Ljubljana',\n",
       "  1919,\n",
       "  'Public',\n",
       "  48821,\n",
       "  'https://en.wikipedia.org/wiki/University_of_Ljubljana'),\n",
       " ('South Africa',\n",
       "  'University of South Africa',\n",
       "  1873,\n",
       "  'Public',\n",
       "  328179,\n",
       "  'https://en.wikipedia.org/wiki/University_of_South_Africa'),\n",
       " ('South Korea',\n",
       "  'Korea National Open University',\n",
       "  1972,\n",
       "  'Public',\n",
       "  173758,\n",
       "  'https://en.wikipedia.org/wiki/Korea_National_Open_University'),\n",
       " ('Spain',\n",
       "  'National University of Distance Education',\n",
       "  1972,\n",
       "  'Public',\n",
       "  260079,\n",
       "  'https://en.wikipedia.org/wiki/National_University_of_Distance_Education'),\n",
       " ('Sweden',\n",
       "  'Lund University',\n",
       "  1666,\n",
       "  'Public',\n",
       "  30646,\n",
       "  'https://en.wikipedia.org/wiki/Lund_University'),\n",
       " ('Switzerland',\n",
       "  'University of Zurich',\n",
       "  1833,\n",
       "  'Public',\n",
       "  26356,\n",
       "  'https://en.wikipedia.org/wiki/University_of_Zurich'),\n",
       " ('Taiwan',\n",
       "  'National Taiwan University',\n",
       "  1928,\n",
       "  'Public',\n",
       "  31758,\n",
       "  'https://en.wikipedia.org/wiki/National_Taiwan_University'),\n",
       " ('Thailand',\n",
       "  'Ramkhamhaeng University',\n",
       "  1971,\n",
       "  'Public',\n",
       "  525000,\n",
       "  'https://en.wikipedia.org/wiki/Ramkhamhaeng_University'),\n",
       " ('Trinidad and Tobago',\n",
       "  'University of the West Indies',\n",
       "  1960,\n",
       "  'Public',\n",
       "  60000,\n",
       "  'https://en.wikipedia.org/wiki/University_of_the_West_Indies'),\n",
       " ('Turkey',\n",
       "  'Anadolu University',\n",
       "  1958,\n",
       "  'Public',\n",
       "  1969733,\n",
       "  'https://en.wikipedia.org/wiki/Anadolu_University'),\n",
       " ('United Kingdom',\n",
       "  'Open University',\n",
       "  1969,\n",
       "  'Public',\n",
       "  253075,\n",
       "  'https://en.wikipedia.org/wiki/Open_University'),\n",
       " ('United States',\n",
       "  'Texas A&M University',\n",
       "  1876,\n",
       "  'Public',\n",
       "  73284,\n",
       "  'https://en.wikipedia.org/wiki/Texas_A%26M_University'),\n",
       " ('Uruguay',\n",
       "  'University of the Republic',\n",
       "  1949,\n",
       "  'Public',\n",
       "  144108,\n",
       "  'https://en.wikipedia.org/wiki/University_of_the_Republic'),\n",
       " ('Venezuela',\n",
       "  'Universidad Central de Venezuela',\n",
       "  1721,\n",
       "  'Public',\n",
       "  41059,\n",
       "  'https://en.wikipedia.org/wiki/Universidad_Central_de_Venezuela'))"
      ]
     },
     "execution_count": 51,
     "metadata": {},
     "output_type": "execute_result"
    }
   ],
   "source": [
    "tuple(mysql_data)"
   ]
  },
  {
   "cell_type": "code",
   "execution_count": 52,
   "metadata": {},
   "outputs": [],
   "source": [
    "sql_engine = create_engine(\"mysql+pymysql://\", creator=lambda: conn)"
   ]
  },
  {
   "cell_type": "code",
   "execution_count": 53,
   "metadata": {},
   "outputs": [
    {
     "data": {
      "text/html": [
       "<div>\n",
       "<style scoped>\n",
       "    .dataframe tbody tr th:only-of-type {\n",
       "        vertical-align: middle;\n",
       "    }\n",
       "\n",
       "    .dataframe tbody tr th {\n",
       "        vertical-align: top;\n",
       "    }\n",
       "\n",
       "    .dataframe thead th {\n",
       "        text-align: right;\n",
       "    }\n",
       "</style>\n",
       "<table border=\"1\" class=\"dataframe\">\n",
       "  <thead>\n",
       "    <tr style=\"text-align: right;\">\n",
       "      <th></th>\n",
       "      <th>id</th>\n",
       "      <th>country</th>\n",
       "      <th>university_name</th>\n",
       "      <th>founded</th>\n",
       "      <th>type</th>\n",
       "      <th>enrollment</th>\n",
       "      <th>link</th>\n",
       "    </tr>\n",
       "  </thead>\n",
       "  <tbody>\n",
       "  </tbody>\n",
       "</table>\n",
       "</div>"
      ],
      "text/plain": [
       "Empty DataFrame\n",
       "Columns: [id, country, university_name, founded, type, enrollment, link]\n",
       "Index: []"
      ]
     },
     "execution_count": 53,
     "metadata": {},
     "output_type": "execute_result"
    }
   ],
   "source": [
    "pd.read_sql(\"SELECT * FROM universities;\", con=sql_engine)"
   ]
  },
  {
   "cell_type": "code",
   "execution_count": 54,
   "metadata": {},
   "outputs": [
    {
     "data": {
      "text/plain": [
       "'INSERT INTO universities (country, university_name, founded, `type`, enrollment, link)\\nVALUES (%s, %s, %s, %s, %s, %s) \\nON DUPLICATE KEY UPDATE\\n    founded=VALUES(founded),\\n    `type`=VALUES(`type`),\\n    enrollment=VALUES(enrollment),\\n    link=VALUES(link);\\n'"
      ]
     },
     "execution_count": 54,
     "metadata": {},
     "output_type": "execute_result"
    }
   ],
   "source": [
    "merge_query_file = open('./sql/mysql_upsert.sql')\n",
    "merge_query = merge_query_file.read()\n",
    "merge_query  "
   ]
  },
  {
   "cell_type": "code",
   "execution_count": 55,
   "metadata": {},
   "outputs": [
    {
     "data": {
      "text/plain": [
       "70"
      ]
     },
     "execution_count": 55,
     "metadata": {},
     "output_type": "execute_result"
    }
   ],
   "source": [
    "cursor.executemany(merge_query, mysql_data)"
   ]
  },
  {
   "cell_type": "code",
   "execution_count": 56,
   "metadata": {},
   "outputs": [],
   "source": [
    "conn.commit()"
   ]
  },
  {
   "cell_type": "code",
   "execution_count": 57,
   "metadata": {},
   "outputs": [
    {
     "data": {
      "text/html": [
       "<div>\n",
       "<style scoped>\n",
       "    .dataframe tbody tr th:only-of-type {\n",
       "        vertical-align: middle;\n",
       "    }\n",
       "\n",
       "    .dataframe tbody tr th {\n",
       "        vertical-align: top;\n",
       "    }\n",
       "\n",
       "    .dataframe thead th {\n",
       "        text-align: right;\n",
       "    }\n",
       "</style>\n",
       "<table border=\"1\" class=\"dataframe\">\n",
       "  <thead>\n",
       "    <tr style=\"text-align: right;\">\n",
       "      <th></th>\n",
       "      <th>id</th>\n",
       "      <th>country</th>\n",
       "      <th>university_name</th>\n",
       "      <th>founded</th>\n",
       "      <th>type</th>\n",
       "      <th>enrollment</th>\n",
       "      <th>link</th>\n",
       "    </tr>\n",
       "  </thead>\n",
       "  <tbody>\n",
       "    <tr>\n",
       "      <th>0</th>\n",
       "      <td>1</td>\n",
       "      <td>Albania</td>\n",
       "      <td>University of Tirana</td>\n",
       "      <td>1957</td>\n",
       "      <td>Public</td>\n",
       "      <td>35000</td>\n",
       "      <td>https://en.wikipedia.org/wiki/University_of_Ti...</td>\n",
       "    </tr>\n",
       "    <tr>\n",
       "      <th>1</th>\n",
       "      <td>2</td>\n",
       "      <td>Algeria</td>\n",
       "      <td>Constantine University</td>\n",
       "      <td>1978</td>\n",
       "      <td>Public</td>\n",
       "      <td>85000</td>\n",
       "      <td>https://en.wikipedia.org/wiki/List_of_universi...</td>\n",
       "    </tr>\n",
       "    <tr>\n",
       "      <th>2</th>\n",
       "      <td>3</td>\n",
       "      <td>Angola</td>\n",
       "      <td>Agostinho Neto University</td>\n",
       "      <td>1962</td>\n",
       "      <td>Public</td>\n",
       "      <td>29827</td>\n",
       "      <td>https://en.wikipedia.org/wiki/Agostinho_Neto_U...</td>\n",
       "    </tr>\n",
       "    <tr>\n",
       "      <th>3</th>\n",
       "      <td>4</td>\n",
       "      <td>Argentina</td>\n",
       "      <td>University of Buenos Aires</td>\n",
       "      <td>1821</td>\n",
       "      <td>Public</td>\n",
       "      <td>311175</td>\n",
       "      <td>https://en.wikipedia.org/wiki/University_of_Bu...</td>\n",
       "    </tr>\n",
       "    <tr>\n",
       "      <th>4</th>\n",
       "      <td>5</td>\n",
       "      <td>Australia</td>\n",
       "      <td>Monash University</td>\n",
       "      <td>1958</td>\n",
       "      <td>Public</td>\n",
       "      <td>73807</td>\n",
       "      <td>https://en.wikipedia.org/wiki/Monash_University</td>\n",
       "    </tr>\n",
       "    <tr>\n",
       "      <th>...</th>\n",
       "      <td>...</td>\n",
       "      <td>...</td>\n",
       "      <td>...</td>\n",
       "      <td>...</td>\n",
       "      <td>...</td>\n",
       "      <td>...</td>\n",
       "      <td>...</td>\n",
       "    </tr>\n",
       "    <tr>\n",
       "      <th>65</th>\n",
       "      <td>66</td>\n",
       "      <td>Turkey</td>\n",
       "      <td>Anadolu University</td>\n",
       "      <td>1958</td>\n",
       "      <td>Public</td>\n",
       "      <td>1969733</td>\n",
       "      <td>https://en.wikipedia.org/wiki/Anadolu_University</td>\n",
       "    </tr>\n",
       "    <tr>\n",
       "      <th>66</th>\n",
       "      <td>67</td>\n",
       "      <td>United Kingdom</td>\n",
       "      <td>Open University</td>\n",
       "      <td>1969</td>\n",
       "      <td>Public</td>\n",
       "      <td>253075</td>\n",
       "      <td>https://en.wikipedia.org/wiki/Open_University</td>\n",
       "    </tr>\n",
       "    <tr>\n",
       "      <th>67</th>\n",
       "      <td>68</td>\n",
       "      <td>United States</td>\n",
       "      <td>Texas A&amp;M University</td>\n",
       "      <td>1876</td>\n",
       "      <td>Public</td>\n",
       "      <td>73284</td>\n",
       "      <td>https://en.wikipedia.org/wiki/Texas_A%26M_Univ...</td>\n",
       "    </tr>\n",
       "    <tr>\n",
       "      <th>68</th>\n",
       "      <td>69</td>\n",
       "      <td>Uruguay</td>\n",
       "      <td>University of the Republic</td>\n",
       "      <td>1949</td>\n",
       "      <td>Public</td>\n",
       "      <td>144108</td>\n",
       "      <td>https://en.wikipedia.org/wiki/University_of_th...</td>\n",
       "    </tr>\n",
       "    <tr>\n",
       "      <th>69</th>\n",
       "      <td>70</td>\n",
       "      <td>Venezuela</td>\n",
       "      <td>Universidad Central de Venezuela</td>\n",
       "      <td>1721</td>\n",
       "      <td>Public</td>\n",
       "      <td>41059</td>\n",
       "      <td>https://en.wikipedia.org/wiki/Universidad_Cent...</td>\n",
       "    </tr>\n",
       "  </tbody>\n",
       "</table>\n",
       "<p>70 rows × 7 columns</p>\n",
       "</div>"
      ],
      "text/plain": [
       "    id         country                   university_name  founded    type  \\\n",
       "0    1         Albania              University of Tirana     1957  Public   \n",
       "1    2         Algeria            Constantine University     1978  Public   \n",
       "2    3          Angola         Agostinho Neto University     1962  Public   \n",
       "3    4       Argentina        University of Buenos Aires     1821  Public   \n",
       "4    5       Australia                 Monash University     1958  Public   \n",
       "..  ..             ...                               ...      ...     ...   \n",
       "65  66          Turkey                Anadolu University     1958  Public   \n",
       "66  67  United Kingdom                   Open University     1969  Public   \n",
       "67  68   United States              Texas A&M University     1876  Public   \n",
       "68  69         Uruguay        University of the Republic     1949  Public   \n",
       "69  70       Venezuela  Universidad Central de Venezuela     1721  Public   \n",
       "\n",
       "    enrollment                                               link  \n",
       "0        35000  https://en.wikipedia.org/wiki/University_of_Ti...  \n",
       "1        85000  https://en.wikipedia.org/wiki/List_of_universi...  \n",
       "2        29827  https://en.wikipedia.org/wiki/Agostinho_Neto_U...  \n",
       "3       311175  https://en.wikipedia.org/wiki/University_of_Bu...  \n",
       "4        73807    https://en.wikipedia.org/wiki/Monash_University  \n",
       "..         ...                                                ...  \n",
       "65     1969733   https://en.wikipedia.org/wiki/Anadolu_University  \n",
       "66      253075      https://en.wikipedia.org/wiki/Open_University  \n",
       "67       73284  https://en.wikipedia.org/wiki/Texas_A%26M_Univ...  \n",
       "68      144108  https://en.wikipedia.org/wiki/University_of_th...  \n",
       "69       41059  https://en.wikipedia.org/wiki/Universidad_Cent...  \n",
       "\n",
       "[70 rows x 7 columns]"
      ]
     },
     "execution_count": 57,
     "metadata": {},
     "output_type": "execute_result"
    }
   ],
   "source": [
    "pd.read_sql(\"SELECT * FROM universities;\", con=sql_engine)"
   ]
  },
  {
   "cell_type": "markdown",
   "metadata": {},
   "source": [
    "### Loading Data into Postgres Database"
   ]
  },
  {
   "cell_type": "code",
   "execution_count": 58,
   "metadata": {},
   "outputs": [
    {
     "data": {
      "text/html": [
       "<div>\n",
       "<style scoped>\n",
       "    .dataframe tbody tr th:only-of-type {\n",
       "        vertical-align: middle;\n",
       "    }\n",
       "\n",
       "    .dataframe tbody tr th {\n",
       "        vertical-align: top;\n",
       "    }\n",
       "\n",
       "    .dataframe thead th {\n",
       "        text-align: right;\n",
       "    }\n",
       "</style>\n",
       "<table border=\"1\" class=\"dataframe\">\n",
       "  <thead>\n",
       "    <tr style=\"text-align: right;\">\n",
       "      <th></th>\n",
       "      <th>Country</th>\n",
       "      <th>University</th>\n",
       "      <th>Founded</th>\n",
       "      <th>Type</th>\n",
       "      <th>Enrollment</th>\n",
       "      <th>Link</th>\n",
       "    </tr>\n",
       "  </thead>\n",
       "  <tbody>\n",
       "    <tr>\n",
       "      <th>0</th>\n",
       "      <td>Albania</td>\n",
       "      <td>University of Tirana</td>\n",
       "      <td>1957</td>\n",
       "      <td>Public</td>\n",
       "      <td>35000</td>\n",
       "      <td>https://en.wikipedia.org/wiki/University_of_Ti...</td>\n",
       "    </tr>\n",
       "    <tr>\n",
       "      <th>1</th>\n",
       "      <td>Algeria</td>\n",
       "      <td>Constantine University</td>\n",
       "      <td>1978</td>\n",
       "      <td>Public</td>\n",
       "      <td>85000</td>\n",
       "      <td>https://en.wikipedia.org/wiki/List_of_universi...</td>\n",
       "    </tr>\n",
       "    <tr>\n",
       "      <th>2</th>\n",
       "      <td>Angola</td>\n",
       "      <td>Agostinho Neto University</td>\n",
       "      <td>1962</td>\n",
       "      <td>Public</td>\n",
       "      <td>29827</td>\n",
       "      <td>https://en.wikipedia.org/wiki/Agostinho_Neto_U...</td>\n",
       "    </tr>\n",
       "    <tr>\n",
       "      <th>3</th>\n",
       "      <td>Argentina</td>\n",
       "      <td>University of Buenos Aires</td>\n",
       "      <td>1821</td>\n",
       "      <td>Public</td>\n",
       "      <td>311175</td>\n",
       "      <td>https://en.wikipedia.org/wiki/University_of_Bu...</td>\n",
       "    </tr>\n",
       "    <tr>\n",
       "      <th>4</th>\n",
       "      <td>Australia</td>\n",
       "      <td>Monash University</td>\n",
       "      <td>1958</td>\n",
       "      <td>Public</td>\n",
       "      <td>73807</td>\n",
       "      <td>https://en.wikipedia.org/wiki/Monash_University</td>\n",
       "    </tr>\n",
       "  </tbody>\n",
       "</table>\n",
       "</div>"
      ],
      "text/plain": [
       "     Country                  University  Founded    Type  Enrollment  \\\n",
       "0    Albania        University of Tirana     1957  Public       35000   \n",
       "1    Algeria      Constantine University     1978  Public       85000   \n",
       "2     Angola   Agostinho Neto University     1962  Public       29827   \n",
       "3  Argentina  University of Buenos Aires     1821  Public      311175   \n",
       "4  Australia           Monash University     1958  Public       73807   \n",
       "\n",
       "                                                Link  \n",
       "0  https://en.wikipedia.org/wiki/University_of_Ti...  \n",
       "1  https://en.wikipedia.org/wiki/List_of_universi...  \n",
       "2  https://en.wikipedia.org/wiki/Agostinho_Neto_U...  \n",
       "3  https://en.wikipedia.org/wiki/University_of_Bu...  \n",
       "4    https://en.wikipedia.org/wiki/Monash_University  "
      ]
     },
     "execution_count": 58,
     "metadata": {},
     "output_type": "execute_result"
    }
   ],
   "source": [
    "df.head()"
   ]
  },
  {
   "cell_type": "code",
   "execution_count": 61,
   "metadata": {},
   "outputs": [],
   "source": [
    "conn = psycopg2.connect(\n",
    "    host = 'localhost',\n",
    "    port = 5435,\n",
    "    user = 'wikiuser',\n",
    "    password = 'wikiuserpassword',\n",
    "    database = 'wikidb'\n",
    ")"
   ]
  },
  {
   "cell_type": "code",
   "execution_count": 62,
   "metadata": {},
   "outputs": [],
   "source": [
    "cursor = conn.cursor()"
   ]
  },
  {
   "cell_type": "code",
   "execution_count": 68,
   "metadata": {},
   "outputs": [
    {
     "data": {
      "text/plain": [
       "'DROP TABLE IF EXISTS universities;\\n\\nCREATE TABLE universities(\\n        id SERIAL PRIMARY KEY,\\n        country VARCHAR (255) NOT NULL,\\n        university_name VARCHAR (255) NOT NULL,\\n        founded INT NOT NULL,\\n        type VARCHAR (255) NOT NULL,\\n        enrollment BIGINT NOT NULL,\\n        link VARCHAR (255) NOT NULL,\\n        CONSTRAINT unique_combination UNIQUE(country, university_name)\\n);'"
      ]
     },
     "execution_count": 68,
     "metadata": {},
     "output_type": "execute_result"
    }
   ],
   "source": [
    "create_query_file = open('./sql/postgres_create_tables.sql')\n",
    "create_query = create_query_file.read()\n",
    "create_query"
   ]
  },
  {
   "cell_type": "code",
   "execution_count": 70,
   "metadata": {},
   "outputs": [],
   "source": [
    "#conn.rollback()"
   ]
  },
  {
   "cell_type": "code",
   "execution_count": 71,
   "metadata": {},
   "outputs": [],
   "source": [
    "cursor.execute(create_query)"
   ]
  },
  {
   "cell_type": "code",
   "execution_count": 72,
   "metadata": {},
   "outputs": [],
   "source": [
    "conn.commit()"
   ]
  },
  {
   "cell_type": "code",
   "execution_count": 73,
   "metadata": {},
   "outputs": [],
   "source": [
    "postgres_engine = create_engine(\"postgresql+psycopg2://\", creator=lambda: conn)"
   ]
  },
  {
   "cell_type": "code",
   "execution_count": 74,
   "metadata": {},
   "outputs": [
    {
     "data": {
      "text/html": [
       "<div>\n",
       "<style scoped>\n",
       "    .dataframe tbody tr th:only-of-type {\n",
       "        vertical-align: middle;\n",
       "    }\n",
       "\n",
       "    .dataframe tbody tr th {\n",
       "        vertical-align: top;\n",
       "    }\n",
       "\n",
       "    .dataframe thead th {\n",
       "        text-align: right;\n",
       "    }\n",
       "</style>\n",
       "<table border=\"1\" class=\"dataframe\">\n",
       "  <thead>\n",
       "    <tr style=\"text-align: right;\">\n",
       "      <th></th>\n",
       "      <th>id</th>\n",
       "      <th>country</th>\n",
       "      <th>university_name</th>\n",
       "      <th>founded</th>\n",
       "      <th>type</th>\n",
       "      <th>enrollment</th>\n",
       "      <th>link</th>\n",
       "    </tr>\n",
       "  </thead>\n",
       "  <tbody>\n",
       "  </tbody>\n",
       "</table>\n",
       "</div>"
      ],
      "text/plain": [
       "Empty DataFrame\n",
       "Columns: [id, country, university_name, founded, type, enrollment, link]\n",
       "Index: []"
      ]
     },
     "execution_count": 74,
     "metadata": {},
     "output_type": "execute_result"
    }
   ],
   "source": [
    "pd.read_sql(\"SELECT * FROM universities;\", con=postgres_engine)"
   ]
  },
  {
   "cell_type": "code",
   "execution_count": 75,
   "metadata": {},
   "outputs": [],
   "source": [
    "postgres_data = list(df.itertuples(name=None, index=None))"
   ]
  },
  {
   "cell_type": "code",
   "execution_count": 81,
   "metadata": {},
   "outputs": [
    {
     "data": {
      "text/plain": [
       "'INSERT INTO universities (country, university_name, founded, type, enrollment, link)\\nVALUES (%s, %s, %s, %s, %s, %s) \\nON CONFLICT(country, university_name) DO UPDATE\\nSET\\n    founded=EXCLUDED.founded,\\n    type=EXCLUDED.type,\\n    enrollment=EXCLUDED.enrollment,\\n    link=EXCLUDED.link;'"
      ]
     },
     "execution_count": 81,
     "metadata": {},
     "output_type": "execute_result"
    }
   ],
   "source": [
    "merge_query_file = open('./sql/postgres_upsert.sql')\n",
    "merge_query = merge_query_file.read()\n",
    "merge_query  "
   ]
  },
  {
   "cell_type": "code",
   "execution_count": 84,
   "metadata": {},
   "outputs": [],
   "source": [
    "cursor.executemany(merge_query, postgres_data)"
   ]
  },
  {
   "cell_type": "code",
   "execution_count": 83,
   "metadata": {},
   "outputs": [],
   "source": [
    "#conn.rollback()"
   ]
  },
  {
   "cell_type": "code",
   "execution_count": 85,
   "metadata": {},
   "outputs": [],
   "source": [
    "conn.commit()"
   ]
  },
  {
   "cell_type": "code",
   "execution_count": 86,
   "metadata": {},
   "outputs": [
    {
     "data": {
      "text/html": [
       "<div>\n",
       "<style scoped>\n",
       "    .dataframe tbody tr th:only-of-type {\n",
       "        vertical-align: middle;\n",
       "    }\n",
       "\n",
       "    .dataframe tbody tr th {\n",
       "        vertical-align: top;\n",
       "    }\n",
       "\n",
       "    .dataframe thead th {\n",
       "        text-align: right;\n",
       "    }\n",
       "</style>\n",
       "<table border=\"1\" class=\"dataframe\">\n",
       "  <thead>\n",
       "    <tr style=\"text-align: right;\">\n",
       "      <th></th>\n",
       "      <th>id</th>\n",
       "      <th>country</th>\n",
       "      <th>university_name</th>\n",
       "      <th>founded</th>\n",
       "      <th>type</th>\n",
       "      <th>enrollment</th>\n",
       "      <th>link</th>\n",
       "    </tr>\n",
       "  </thead>\n",
       "  <tbody>\n",
       "    <tr>\n",
       "      <th>0</th>\n",
       "      <td>1</td>\n",
       "      <td>Albania</td>\n",
       "      <td>University of Tirana</td>\n",
       "      <td>1957</td>\n",
       "      <td>Public</td>\n",
       "      <td>35000</td>\n",
       "      <td>https://en.wikipedia.org/wiki/University_of_Ti...</td>\n",
       "    </tr>\n",
       "    <tr>\n",
       "      <th>1</th>\n",
       "      <td>2</td>\n",
       "      <td>Algeria</td>\n",
       "      <td>Constantine University</td>\n",
       "      <td>1978</td>\n",
       "      <td>Public</td>\n",
       "      <td>85000</td>\n",
       "      <td>https://en.wikipedia.org/wiki/List_of_universi...</td>\n",
       "    </tr>\n",
       "    <tr>\n",
       "      <th>2</th>\n",
       "      <td>3</td>\n",
       "      <td>Angola</td>\n",
       "      <td>Agostinho Neto University</td>\n",
       "      <td>1962</td>\n",
       "      <td>Public</td>\n",
       "      <td>29827</td>\n",
       "      <td>https://en.wikipedia.org/wiki/Agostinho_Neto_U...</td>\n",
       "    </tr>\n",
       "    <tr>\n",
       "      <th>3</th>\n",
       "      <td>4</td>\n",
       "      <td>Argentina</td>\n",
       "      <td>University of Buenos Aires</td>\n",
       "      <td>1821</td>\n",
       "      <td>Public</td>\n",
       "      <td>311175</td>\n",
       "      <td>https://en.wikipedia.org/wiki/University_of_Bu...</td>\n",
       "    </tr>\n",
       "    <tr>\n",
       "      <th>4</th>\n",
       "      <td>5</td>\n",
       "      <td>Australia</td>\n",
       "      <td>Monash University</td>\n",
       "      <td>1958</td>\n",
       "      <td>Public</td>\n",
       "      <td>73807</td>\n",
       "      <td>https://en.wikipedia.org/wiki/Monash_University</td>\n",
       "    </tr>\n",
       "    <tr>\n",
       "      <th>...</th>\n",
       "      <td>...</td>\n",
       "      <td>...</td>\n",
       "      <td>...</td>\n",
       "      <td>...</td>\n",
       "      <td>...</td>\n",
       "      <td>...</td>\n",
       "      <td>...</td>\n",
       "    </tr>\n",
       "    <tr>\n",
       "      <th>65</th>\n",
       "      <td>66</td>\n",
       "      <td>Turkey</td>\n",
       "      <td>Anadolu University</td>\n",
       "      <td>1958</td>\n",
       "      <td>Public</td>\n",
       "      <td>1969733</td>\n",
       "      <td>https://en.wikipedia.org/wiki/Anadolu_University</td>\n",
       "    </tr>\n",
       "    <tr>\n",
       "      <th>66</th>\n",
       "      <td>67</td>\n",
       "      <td>United Kingdom</td>\n",
       "      <td>Open University</td>\n",
       "      <td>1969</td>\n",
       "      <td>Public</td>\n",
       "      <td>253075</td>\n",
       "      <td>https://en.wikipedia.org/wiki/Open_University</td>\n",
       "    </tr>\n",
       "    <tr>\n",
       "      <th>67</th>\n",
       "      <td>68</td>\n",
       "      <td>United States</td>\n",
       "      <td>Texas A&amp;M University</td>\n",
       "      <td>1876</td>\n",
       "      <td>Public</td>\n",
       "      <td>73284</td>\n",
       "      <td>https://en.wikipedia.org/wiki/Texas_A%26M_Univ...</td>\n",
       "    </tr>\n",
       "    <tr>\n",
       "      <th>68</th>\n",
       "      <td>69</td>\n",
       "      <td>Uruguay</td>\n",
       "      <td>University of the Republic</td>\n",
       "      <td>1949</td>\n",
       "      <td>Public</td>\n",
       "      <td>144108</td>\n",
       "      <td>https://en.wikipedia.org/wiki/University_of_th...</td>\n",
       "    </tr>\n",
       "    <tr>\n",
       "      <th>69</th>\n",
       "      <td>70</td>\n",
       "      <td>Venezuela</td>\n",
       "      <td>Universidad Central de Venezuela</td>\n",
       "      <td>1721</td>\n",
       "      <td>Public</td>\n",
       "      <td>41059</td>\n",
       "      <td>https://en.wikipedia.org/wiki/Universidad_Cent...</td>\n",
       "    </tr>\n",
       "  </tbody>\n",
       "</table>\n",
       "<p>70 rows × 7 columns</p>\n",
       "</div>"
      ],
      "text/plain": [
       "    id         country                   university_name  founded    type  \\\n",
       "0    1         Albania              University of Tirana     1957  Public   \n",
       "1    2         Algeria            Constantine University     1978  Public   \n",
       "2    3          Angola         Agostinho Neto University     1962  Public   \n",
       "3    4       Argentina        University of Buenos Aires     1821  Public   \n",
       "4    5       Australia                 Monash University     1958  Public   \n",
       "..  ..             ...                               ...      ...     ...   \n",
       "65  66          Turkey                Anadolu University     1958  Public   \n",
       "66  67  United Kingdom                   Open University     1969  Public   \n",
       "67  68   United States              Texas A&M University     1876  Public   \n",
       "68  69         Uruguay        University of the Republic     1949  Public   \n",
       "69  70       Venezuela  Universidad Central de Venezuela     1721  Public   \n",
       "\n",
       "    enrollment                                               link  \n",
       "0        35000  https://en.wikipedia.org/wiki/University_of_Ti...  \n",
       "1        85000  https://en.wikipedia.org/wiki/List_of_universi...  \n",
       "2        29827  https://en.wikipedia.org/wiki/Agostinho_Neto_U...  \n",
       "3       311175  https://en.wikipedia.org/wiki/University_of_Bu...  \n",
       "4        73807    https://en.wikipedia.org/wiki/Monash_University  \n",
       "..         ...                                                ...  \n",
       "65     1969733   https://en.wikipedia.org/wiki/Anadolu_University  \n",
       "66      253075      https://en.wikipedia.org/wiki/Open_University  \n",
       "67       73284  https://en.wikipedia.org/wiki/Texas_A%26M_Univ...  \n",
       "68      144108  https://en.wikipedia.org/wiki/University_of_th...  \n",
       "69       41059  https://en.wikipedia.org/wiki/Universidad_Cent...  \n",
       "\n",
       "[70 rows x 7 columns]"
      ]
     },
     "execution_count": 86,
     "metadata": {},
     "output_type": "execute_result"
    }
   ],
   "source": [
    "pd.read_sql(\"SELECT * FROM universities;\", con=postgres_engine)"
   ]
  },
  {
   "cell_type": "markdown",
   "metadata": {},
   "source": [
    "### Loading Data into SQL Server"
   ]
  },
  {
   "cell_type": "code",
   "execution_count": 45,
   "metadata": {},
   "outputs": [],
   "source": [
    "SERVER = 'localhost,1433'\n",
    "USERNAME = 'sa'\n",
    "PASSWORD = 'Wikipassword_007'"
   ]
  },
  {
   "cell_type": "code",
   "execution_count": 46,
   "metadata": {},
   "outputs": [],
   "source": [
    "connectionString = f'DRIVER={{ODBC Driver 17 for SQL Server}};SERVER={SERVER};UID={USERNAME};PWD={PASSWORD}'"
   ]
  },
  {
   "cell_type": "code",
   "execution_count": 47,
   "metadata": {},
   "outputs": [],
   "source": [
    "conn = pyodbc.connect(connectionString)"
   ]
  },
  {
   "cell_type": "code",
   "execution_count": 48,
   "metadata": {},
   "outputs": [],
   "source": [
    "cursor = conn.cursor()"
   ]
  },
  {
   "cell_type": "code",
   "execution_count": 49,
   "metadata": {},
   "outputs": [
    {
     "data": {
      "text/plain": [
       "<pyodbc.Cursor at 0x199089f03b0>"
      ]
     },
     "execution_count": 49,
     "metadata": {},
     "output_type": "execute_result"
    }
   ],
   "source": [
    "cursor.execute(\"SELECT name FROM sys.databases;\")"
   ]
  },
  {
   "cell_type": "code",
   "execution_count": 50,
   "metadata": {},
   "outputs": [
    {
     "data": {
      "text/plain": [
       "[('master',), ('tempdb',), ('model',), ('msdb',)]"
      ]
     },
     "execution_count": 50,
     "metadata": {},
     "output_type": "execute_result"
    }
   ],
   "source": [
    "cursor.fetchall()"
   ]
  },
  {
   "cell_type": "code",
   "execution_count": 55,
   "metadata": {},
   "outputs": [],
   "source": [
    "conn.autocommit = True "
   ]
  },
  {
   "cell_type": "code",
   "execution_count": 56,
   "metadata": {},
   "outputs": [
    {
     "data": {
      "text/plain": [
       "<pyodbc.Cursor at 0x199089f03b0>"
      ]
     },
     "execution_count": 56,
     "metadata": {},
     "output_type": "execute_result"
    }
   ],
   "source": [
    "cursor.execute(\"CREATE DATABASE wikidb;\")"
   ]
  },
  {
   "cell_type": "code",
   "execution_count": 57,
   "metadata": {},
   "outputs": [
    {
     "data": {
      "text/plain": [
       "<pyodbc.Cursor at 0x199089f03b0>"
      ]
     },
     "execution_count": 57,
     "metadata": {},
     "output_type": "execute_result"
    }
   ],
   "source": [
    "cursor.execute(\"USE wikidb\")"
   ]
  },
  {
   "cell_type": "code",
   "execution_count": 58,
   "metadata": {},
   "outputs": [
    {
     "data": {
      "text/plain": [
       "'DROP TABLE IF EXISTS universities;\\n\\nCREATE TABLE universities(\\n        id BIGINT IDENTITY(1,1) PRIMARY KEY,\\n        country NVARCHAR (255) NOT NULL,\\n        university_name NVARCHAR (255) NOT NULL,\\n        founded INT NOT NULL,\\n        type NVARCHAR (255) NOT NULL,\\n        enrollment BIGINT NOT NULL,\\n        link NVARCHAR (255) NOT NULL,\\n        CONSTRAINT unique_combination UNIQUE(country, university_name)\\n);'"
      ]
     },
     "execution_count": 58,
     "metadata": {},
     "output_type": "execute_result"
    }
   ],
   "source": [
    "create_query_file = open('./sql/sqlserver_create_tables.sql')\n",
    "create_query = create_query_file.read()\n",
    "create_query"
   ]
  },
  {
   "cell_type": "code",
   "execution_count": 59,
   "metadata": {},
   "outputs": [
    {
     "data": {
      "text/plain": [
       "<pyodbc.Cursor at 0x199089f03b0>"
      ]
     },
     "execution_count": 59,
     "metadata": {},
     "output_type": "execute_result"
    }
   ],
   "source": [
    "cursor.execute(create_query)"
   ]
  },
  {
   "cell_type": "code",
   "execution_count": 60,
   "metadata": {},
   "outputs": [],
   "source": [
    "sqlserver_engine = create_engine(\"mssql+pyodbc://\", creator=lambda: conn)"
   ]
  },
  {
   "cell_type": "code",
   "execution_count": 63,
   "metadata": {},
   "outputs": [
    {
     "data": {
      "text/html": [
       "<div>\n",
       "<style scoped>\n",
       "    .dataframe tbody tr th:only-of-type {\n",
       "        vertical-align: middle;\n",
       "    }\n",
       "\n",
       "    .dataframe tbody tr th {\n",
       "        vertical-align: top;\n",
       "    }\n",
       "\n",
       "    .dataframe thead th {\n",
       "        text-align: right;\n",
       "    }\n",
       "</style>\n",
       "<table border=\"1\" class=\"dataframe\">\n",
       "  <thead>\n",
       "    <tr style=\"text-align: right;\">\n",
       "      <th></th>\n",
       "      <th>id</th>\n",
       "      <th>country</th>\n",
       "      <th>university_name</th>\n",
       "      <th>founded</th>\n",
       "      <th>type</th>\n",
       "      <th>enrollment</th>\n",
       "      <th>link</th>\n",
       "    </tr>\n",
       "  </thead>\n",
       "  <tbody>\n",
       "  </tbody>\n",
       "</table>\n",
       "</div>"
      ],
      "text/plain": [
       "Empty DataFrame\n",
       "Columns: [id, country, university_name, founded, type, enrollment, link]\n",
       "Index: []"
      ]
     },
     "execution_count": 63,
     "metadata": {},
     "output_type": "execute_result"
    }
   ],
   "source": [
    "pd.read_sql(\"SELECT * FROM universities;\", con=sqlserver_engine)"
   ]
  },
  {
   "cell_type": "code",
   "execution_count": 65,
   "metadata": {},
   "outputs": [
    {
     "data": {
      "text/plain": [
       "70"
      ]
     },
     "execution_count": 65,
     "metadata": {},
     "output_type": "execute_result"
    }
   ],
   "source": [
    "# Creating a staging (temporary) table in the database instance\n",
    "df.to_sql(\"#staging\", index=False, con=sqlserver_engine)"
   ]
  },
  {
   "cell_type": "code",
   "execution_count": 66,
   "metadata": {},
   "outputs": [
    {
     "data": {
      "text/html": [
       "<div>\n",
       "<style scoped>\n",
       "    .dataframe tbody tr th:only-of-type {\n",
       "        vertical-align: middle;\n",
       "    }\n",
       "\n",
       "    .dataframe tbody tr th {\n",
       "        vertical-align: top;\n",
       "    }\n",
       "\n",
       "    .dataframe thead th {\n",
       "        text-align: right;\n",
       "    }\n",
       "</style>\n",
       "<table border=\"1\" class=\"dataframe\">\n",
       "  <thead>\n",
       "    <tr style=\"text-align: right;\">\n",
       "      <th></th>\n",
       "      <th>Country</th>\n",
       "      <th>University</th>\n",
       "      <th>Founded</th>\n",
       "      <th>Type</th>\n",
       "      <th>Enrollment</th>\n",
       "      <th>Link</th>\n",
       "    </tr>\n",
       "  </thead>\n",
       "  <tbody>\n",
       "    <tr>\n",
       "      <th>0</th>\n",
       "      <td>Albania</td>\n",
       "      <td>University of Tirana</td>\n",
       "      <td>1957</td>\n",
       "      <td>Public</td>\n",
       "      <td>35000</td>\n",
       "      <td>https://en.wikipedia.org/wiki/University_of_Ti...</td>\n",
       "    </tr>\n",
       "    <tr>\n",
       "      <th>1</th>\n",
       "      <td>Algeria</td>\n",
       "      <td>Constantine University</td>\n",
       "      <td>1978</td>\n",
       "      <td>Public</td>\n",
       "      <td>85000</td>\n",
       "      <td>https://en.wikipedia.org/wiki/List_of_universi...</td>\n",
       "    </tr>\n",
       "    <tr>\n",
       "      <th>2</th>\n",
       "      <td>Angola</td>\n",
       "      <td>Agostinho Neto University</td>\n",
       "      <td>1962</td>\n",
       "      <td>Public</td>\n",
       "      <td>29827</td>\n",
       "      <td>https://en.wikipedia.org/wiki/Agostinho_Neto_U...</td>\n",
       "    </tr>\n",
       "    <tr>\n",
       "      <th>3</th>\n",
       "      <td>Argentina</td>\n",
       "      <td>University of Buenos Aires</td>\n",
       "      <td>1821</td>\n",
       "      <td>Public</td>\n",
       "      <td>311175</td>\n",
       "      <td>https://en.wikipedia.org/wiki/University_of_Bu...</td>\n",
       "    </tr>\n",
       "    <tr>\n",
       "      <th>4</th>\n",
       "      <td>Australia</td>\n",
       "      <td>Monash University</td>\n",
       "      <td>1958</td>\n",
       "      <td>Public</td>\n",
       "      <td>73807</td>\n",
       "      <td>https://en.wikipedia.org/wiki/Monash_University</td>\n",
       "    </tr>\n",
       "    <tr>\n",
       "      <th>...</th>\n",
       "      <td>...</td>\n",
       "      <td>...</td>\n",
       "      <td>...</td>\n",
       "      <td>...</td>\n",
       "      <td>...</td>\n",
       "      <td>...</td>\n",
       "    </tr>\n",
       "    <tr>\n",
       "      <th>65</th>\n",
       "      <td>Turkey</td>\n",
       "      <td>Anadolu University</td>\n",
       "      <td>1958</td>\n",
       "      <td>Public</td>\n",
       "      <td>1969733</td>\n",
       "      <td>https://en.wikipedia.org/wiki/Anadolu_University</td>\n",
       "    </tr>\n",
       "    <tr>\n",
       "      <th>66</th>\n",
       "      <td>United Kingdom</td>\n",
       "      <td>Open University</td>\n",
       "      <td>1969</td>\n",
       "      <td>Public</td>\n",
       "      <td>253075</td>\n",
       "      <td>https://en.wikipedia.org/wiki/Open_University</td>\n",
       "    </tr>\n",
       "    <tr>\n",
       "      <th>67</th>\n",
       "      <td>United States</td>\n",
       "      <td>Texas A&amp;M University</td>\n",
       "      <td>1876</td>\n",
       "      <td>Public</td>\n",
       "      <td>73284</td>\n",
       "      <td>https://en.wikipedia.org/wiki/Texas_A%26M_Univ...</td>\n",
       "    </tr>\n",
       "    <tr>\n",
       "      <th>68</th>\n",
       "      <td>Uruguay</td>\n",
       "      <td>University of the Republic</td>\n",
       "      <td>1949</td>\n",
       "      <td>Public</td>\n",
       "      <td>144108</td>\n",
       "      <td>https://en.wikipedia.org/wiki/University_of_th...</td>\n",
       "    </tr>\n",
       "    <tr>\n",
       "      <th>69</th>\n",
       "      <td>Venezuela</td>\n",
       "      <td>Universidad Central de Venezuela</td>\n",
       "      <td>1721</td>\n",
       "      <td>Public</td>\n",
       "      <td>41059</td>\n",
       "      <td>https://en.wikipedia.org/wiki/Universidad_Cent...</td>\n",
       "    </tr>\n",
       "  </tbody>\n",
       "</table>\n",
       "<p>70 rows × 6 columns</p>\n",
       "</div>"
      ],
      "text/plain": [
       "           Country                        University  Founded    Type  \\\n",
       "0          Albania              University of Tirana     1957  Public   \n",
       "1          Algeria            Constantine University     1978  Public   \n",
       "2           Angola         Agostinho Neto University     1962  Public   \n",
       "3        Argentina        University of Buenos Aires     1821  Public   \n",
       "4        Australia                 Monash University     1958  Public   \n",
       "..             ...                               ...      ...     ...   \n",
       "65          Turkey                Anadolu University     1958  Public   \n",
       "66  United Kingdom                   Open University     1969  Public   \n",
       "67   United States              Texas A&M University     1876  Public   \n",
       "68         Uruguay        University of the Republic     1949  Public   \n",
       "69       Venezuela  Universidad Central de Venezuela     1721  Public   \n",
       "\n",
       "    Enrollment                                               Link  \n",
       "0        35000  https://en.wikipedia.org/wiki/University_of_Ti...  \n",
       "1        85000  https://en.wikipedia.org/wiki/List_of_universi...  \n",
       "2        29827  https://en.wikipedia.org/wiki/Agostinho_Neto_U...  \n",
       "3       311175  https://en.wikipedia.org/wiki/University_of_Bu...  \n",
       "4        73807    https://en.wikipedia.org/wiki/Monash_University  \n",
       "..         ...                                                ...  \n",
       "65     1969733   https://en.wikipedia.org/wiki/Anadolu_University  \n",
       "66      253075      https://en.wikipedia.org/wiki/Open_University  \n",
       "67       73284  https://en.wikipedia.org/wiki/Texas_A%26M_Univ...  \n",
       "68      144108  https://en.wikipedia.org/wiki/University_of_th...  \n",
       "69       41059  https://en.wikipedia.org/wiki/Universidad_Cent...  \n",
       "\n",
       "[70 rows x 6 columns]"
      ]
     },
     "execution_count": 66,
     "metadata": {},
     "output_type": "execute_result"
    }
   ],
   "source": [
    "pd.read_sql(\"SELECT * FROM #staging;\", con=sqlserver_engine)"
   ]
  },
  {
   "cell_type": "code",
   "execution_count": 69,
   "metadata": {},
   "outputs": [
    {
     "data": {
      "text/html": [
       "<div>\n",
       "<style scoped>\n",
       "    .dataframe tbody tr th:only-of-type {\n",
       "        vertical-align: middle;\n",
       "    }\n",
       "\n",
       "    .dataframe tbody tr th {\n",
       "        vertical-align: top;\n",
       "    }\n",
       "\n",
       "    .dataframe thead th {\n",
       "        text-align: right;\n",
       "    }\n",
       "</style>\n",
       "<table border=\"1\" class=\"dataframe\">\n",
       "  <thead>\n",
       "    <tr style=\"text-align: right;\">\n",
       "      <th></th>\n",
       "      <th>Country</th>\n",
       "      <th>University</th>\n",
       "      <th>Founded</th>\n",
       "      <th>Type</th>\n",
       "      <th>Enrollment</th>\n",
       "      <th>Link</th>\n",
       "    </tr>\n",
       "  </thead>\n",
       "  <tbody>\n",
       "    <tr>\n",
       "      <th>0</th>\n",
       "      <td>France</td>\n",
       "      <td>Centre national d'enseignement à distance</td>\n",
       "      <td>1939</td>\n",
       "      <td>Public</td>\n",
       "      <td>350000</td>\n",
       "      <td>https://en.wikipedia.org/wiki/Centre_national_...</td>\n",
       "    </tr>\n",
       "  </tbody>\n",
       "</table>\n",
       "</div>"
      ],
      "text/plain": [
       "  Country                                 University  Founded    Type  \\\n",
       "0  France  Centre national d'enseignement à distance     1939  Public   \n",
       "\n",
       "   Enrollment                                               Link  \n",
       "0      350000  https://en.wikipedia.org/wiki/Centre_national_...  "
      ]
     },
     "execution_count": 69,
     "metadata": {},
     "output_type": "execute_result"
    }
   ],
   "source": [
    "pd.read_sql(\"SELECT * FROM #staging WHERE country = 'France';\", con=sqlserver_engine)"
   ]
  },
  {
   "cell_type": "code",
   "execution_count": 75,
   "metadata": {},
   "outputs": [
    {
     "data": {
      "text/plain": [
       "'MERGE INTO universities AS target\\nUSING #staging AS source\\nON (source.University = target.university_name AND source.Country = target.country)\\nWHEN MATCHED THEN \\n    UPDATE SET\\n        target.founded = source.Founded,\\n        target.type = source.Type,\\n        target.enrollment = source.Enrollment,\\n        target.link = source.Link\\nWHEN NOT MATCHED BY TARGET THEN\\n    INSERT (country, university_name, founded, type, enrollment, link)\\n    VALUES (source.Country, source.University, source.Founded, source.Type, source.Enrollment, source.Link);'"
      ]
     },
     "execution_count": 75,
     "metadata": {},
     "output_type": "execute_result"
    }
   ],
   "source": [
    "merge_query_file = open('./sql/sqlserver_upsert.sql')\n",
    "merge_query = merge_query_file.read()\n",
    "merge_query"
   ]
  },
  {
   "cell_type": "code",
   "execution_count": 76,
   "metadata": {},
   "outputs": [
    {
     "data": {
      "text/plain": [
       "<pyodbc.Cursor at 0x199089f03b0>"
      ]
     },
     "execution_count": 76,
     "metadata": {},
     "output_type": "execute_result"
    }
   ],
   "source": [
    "cursor.execute(merge_query)"
   ]
  },
  {
   "cell_type": "code",
   "execution_count": 77,
   "metadata": {},
   "outputs": [
    {
     "data": {
      "text/html": [
       "<div>\n",
       "<style scoped>\n",
       "    .dataframe tbody tr th:only-of-type {\n",
       "        vertical-align: middle;\n",
       "    }\n",
       "\n",
       "    .dataframe tbody tr th {\n",
       "        vertical-align: top;\n",
       "    }\n",
       "\n",
       "    .dataframe thead th {\n",
       "        text-align: right;\n",
       "    }\n",
       "</style>\n",
       "<table border=\"1\" class=\"dataframe\">\n",
       "  <thead>\n",
       "    <tr style=\"text-align: right;\">\n",
       "      <th></th>\n",
       "      <th>id</th>\n",
       "      <th>country</th>\n",
       "      <th>university_name</th>\n",
       "      <th>founded</th>\n",
       "      <th>type</th>\n",
       "      <th>enrollment</th>\n",
       "      <th>link</th>\n",
       "    </tr>\n",
       "  </thead>\n",
       "  <tbody>\n",
       "    <tr>\n",
       "      <th>0</th>\n",
       "      <td>1</td>\n",
       "      <td>Albania</td>\n",
       "      <td>University of Tirana</td>\n",
       "      <td>1957</td>\n",
       "      <td>Public</td>\n",
       "      <td>35000</td>\n",
       "      <td>https://en.wikipedia.org/wiki/University_of_Ti...</td>\n",
       "    </tr>\n",
       "    <tr>\n",
       "      <th>1</th>\n",
       "      <td>2</td>\n",
       "      <td>Algeria</td>\n",
       "      <td>Constantine University</td>\n",
       "      <td>1978</td>\n",
       "      <td>Public</td>\n",
       "      <td>85000</td>\n",
       "      <td>https://en.wikipedia.org/wiki/List_of_universi...</td>\n",
       "    </tr>\n",
       "    <tr>\n",
       "      <th>2</th>\n",
       "      <td>3</td>\n",
       "      <td>Angola</td>\n",
       "      <td>Agostinho Neto University</td>\n",
       "      <td>1962</td>\n",
       "      <td>Public</td>\n",
       "      <td>29827</td>\n",
       "      <td>https://en.wikipedia.org/wiki/Agostinho_Neto_U...</td>\n",
       "    </tr>\n",
       "    <tr>\n",
       "      <th>3</th>\n",
       "      <td>4</td>\n",
       "      <td>Argentina</td>\n",
       "      <td>University of Buenos Aires</td>\n",
       "      <td>1821</td>\n",
       "      <td>Public</td>\n",
       "      <td>311175</td>\n",
       "      <td>https://en.wikipedia.org/wiki/University_of_Bu...</td>\n",
       "    </tr>\n",
       "    <tr>\n",
       "      <th>4</th>\n",
       "      <td>5</td>\n",
       "      <td>Australia</td>\n",
       "      <td>Monash University</td>\n",
       "      <td>1958</td>\n",
       "      <td>Public</td>\n",
       "      <td>73807</td>\n",
       "      <td>https://en.wikipedia.org/wiki/Monash_University</td>\n",
       "    </tr>\n",
       "    <tr>\n",
       "      <th>...</th>\n",
       "      <td>...</td>\n",
       "      <td>...</td>\n",
       "      <td>...</td>\n",
       "      <td>...</td>\n",
       "      <td>...</td>\n",
       "      <td>...</td>\n",
       "      <td>...</td>\n",
       "    </tr>\n",
       "    <tr>\n",
       "      <th>65</th>\n",
       "      <td>66</td>\n",
       "      <td>Turkey</td>\n",
       "      <td>Anadolu University</td>\n",
       "      <td>1958</td>\n",
       "      <td>Public</td>\n",
       "      <td>1969733</td>\n",
       "      <td>https://en.wikipedia.org/wiki/Anadolu_University</td>\n",
       "    </tr>\n",
       "    <tr>\n",
       "      <th>66</th>\n",
       "      <td>67</td>\n",
       "      <td>United Kingdom</td>\n",
       "      <td>Open University</td>\n",
       "      <td>1969</td>\n",
       "      <td>Public</td>\n",
       "      <td>253075</td>\n",
       "      <td>https://en.wikipedia.org/wiki/Open_University</td>\n",
       "    </tr>\n",
       "    <tr>\n",
       "      <th>67</th>\n",
       "      <td>68</td>\n",
       "      <td>United States</td>\n",
       "      <td>Texas A&amp;M University</td>\n",
       "      <td>1876</td>\n",
       "      <td>Public</td>\n",
       "      <td>73284</td>\n",
       "      <td>https://en.wikipedia.org/wiki/Texas_A%26M_Univ...</td>\n",
       "    </tr>\n",
       "    <tr>\n",
       "      <th>68</th>\n",
       "      <td>69</td>\n",
       "      <td>Uruguay</td>\n",
       "      <td>University of the Republic</td>\n",
       "      <td>1949</td>\n",
       "      <td>Public</td>\n",
       "      <td>144108</td>\n",
       "      <td>https://en.wikipedia.org/wiki/University_of_th...</td>\n",
       "    </tr>\n",
       "    <tr>\n",
       "      <th>69</th>\n",
       "      <td>70</td>\n",
       "      <td>Venezuela</td>\n",
       "      <td>Universidad Central de Venezuela</td>\n",
       "      <td>1721</td>\n",
       "      <td>Public</td>\n",
       "      <td>41059</td>\n",
       "      <td>https://en.wikipedia.org/wiki/Universidad_Cent...</td>\n",
       "    </tr>\n",
       "  </tbody>\n",
       "</table>\n",
       "<p>70 rows × 7 columns</p>\n",
       "</div>"
      ],
      "text/plain": [
       "    id         country                   university_name  founded    type  \\\n",
       "0    1         Albania              University of Tirana     1957  Public   \n",
       "1    2         Algeria            Constantine University     1978  Public   \n",
       "2    3          Angola         Agostinho Neto University     1962  Public   \n",
       "3    4       Argentina        University of Buenos Aires     1821  Public   \n",
       "4    5       Australia                 Monash University     1958  Public   \n",
       "..  ..             ...                               ...      ...     ...   \n",
       "65  66          Turkey                Anadolu University     1958  Public   \n",
       "66  67  United Kingdom                   Open University     1969  Public   \n",
       "67  68   United States              Texas A&M University     1876  Public   \n",
       "68  69         Uruguay        University of the Republic     1949  Public   \n",
       "69  70       Venezuela  Universidad Central de Venezuela     1721  Public   \n",
       "\n",
       "    enrollment                                               link  \n",
       "0        35000  https://en.wikipedia.org/wiki/University_of_Ti...  \n",
       "1        85000  https://en.wikipedia.org/wiki/List_of_universi...  \n",
       "2        29827  https://en.wikipedia.org/wiki/Agostinho_Neto_U...  \n",
       "3       311175  https://en.wikipedia.org/wiki/University_of_Bu...  \n",
       "4        73807    https://en.wikipedia.org/wiki/Monash_University  \n",
       "..         ...                                                ...  \n",
       "65     1969733   https://en.wikipedia.org/wiki/Anadolu_University  \n",
       "66      253075      https://en.wikipedia.org/wiki/Open_University  \n",
       "67       73284  https://en.wikipedia.org/wiki/Texas_A%26M_Univ...  \n",
       "68      144108  https://en.wikipedia.org/wiki/University_of_th...  \n",
       "69       41059  https://en.wikipedia.org/wiki/Universidad_Cent...  \n",
       "\n",
       "[70 rows x 7 columns]"
      ]
     },
     "execution_count": 77,
     "metadata": {},
     "output_type": "execute_result"
    }
   ],
   "source": [
    "pd.read_sql(\"SELECT * FROM universities;\", con=sqlserver_engine)"
   ]
  }
 ],
 "metadata": {
  "kernelspec": {
   "display_name": "venv",
   "language": "python",
   "name": "python3"
  },
  "language_info": {
   "codemirror_mode": {
    "name": "ipython",
    "version": 3
   },
   "file_extension": ".py",
   "mimetype": "text/x-python",
   "name": "python",
   "nbconvert_exporter": "python",
   "pygments_lexer": "ipython3",
   "version": "3.11.5"
  }
 },
 "nbformat": 4,
 "nbformat_minor": 2
}
